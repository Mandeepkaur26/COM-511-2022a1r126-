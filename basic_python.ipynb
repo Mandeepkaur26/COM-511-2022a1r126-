{
 "cells": [
  {
   "cell_type": "markdown",
   "id": "bbc8c856-c3df-4145-8c10-bc7c27f3bcfd",
   "metadata": {},
   "source": [
    "***COMMANDS***\n",
    "\n",
    "cntrl+ enter = run selected cell\n",
    "\n",
    "\n",
    "shift+tab=function info"
   ]
  },
  {
   "cell_type": "markdown",
   "id": "246effb6-1e0d-46ed-ab5b-b1a82b578625",
   "metadata": {},
   "source": [
    "# add"
   ]
  },
  {
   "cell_type": "code",
   "execution_count": 2,
   "id": "b0059645-687d-44ea-ad2f-d258b999369a",
   "metadata": {},
   "outputs": [
    {
     "data": {
      "text/plain": [
       "51"
      ]
     },
     "execution_count": 2,
     "metadata": {},
     "output_type": "execute_result"
    }
   ],
   "source": [
    "45+6"
   ]
  },
  {
   "cell_type": "code",
   "execution_count": 3,
   "id": "45f02ce5-ca8a-4219-a389-eb5bcbc88b21",
   "metadata": {},
   "outputs": [
    {
     "name": "stdout",
     "output_type": "stream",
     "text": [
      "51\n"
     ]
    }
   ],
   "source": [
    "print(45+6)"
   ]
  },
  {
   "cell_type": "code",
   "execution_count": 4,
   "id": "158fad7a-eec9-4bfe-ad8c-9753441f72d4",
   "metadata": {},
   "outputs": [
    {
     "name": "stdout",
     "output_type": "stream",
     "text": [
      "sum of 2 number like 5 and 6 is  11\n"
     ]
    }
   ],
   "source": [
    "print(\"sum of 2 number like 5 and 6 is \",5+6)"
   ]
  },
  {
   "cell_type": "code",
   "execution_count": 6,
   "id": "d7981711-62dd-4653-9eb9-b45782b7dcf3",
   "metadata": {},
   "outputs": [
    {
     "name": "stdout",
     "output_type": "stream",
     "text": [
      "sum of 4 and 8 is 12\n"
     ]
    }
   ],
   "source": [
    "print(\"sum of {} and {} is {}\".format(4,8,8+4))"
   ]
  },
  {
   "cell_type": "code",
   "execution_count": 10,
   "id": "7ba7458e-35fe-49ee-ae52-dc55325362e9",
   "metadata": {},
   "outputs": [
    {
     "name": "stdout",
     "output_type": "stream",
     "text": [
      "square of 45 is 2025\n"
     ]
    }
   ],
   "source": [
    "print(\"square of {} is {}\".format(45,45**2))"
   ]
  },
  {
   "cell_type": "code",
   "execution_count": 11,
   "id": "a1aff46a-1e25-4a40-a987-c858333ef881",
   "metadata": {},
   "outputs": [
    {
     "name": "stdout",
     "output_type": "stream",
     "text": [
      "cube root of 45 is 91125\n"
     ]
    }
   ],
   "source": [
    "print(\"cube root of {} is {}\".format(45,45**3))"
   ]
  },
  {
   "cell_type": "code",
   "execution_count": 12,
   "id": "8ad11fea-c0a6-4dae-9bb6-a64a49afd270",
   "metadata": {},
   "outputs": [
    {
     "name": "stdout",
     "output_type": "stream",
     "text": [
      "square root of 45 is 6.708203932499369\n"
     ]
    }
   ],
   "source": [
    "print(\"square root of {} is {}\".format(45,45**(.5)))"
   ]
  },
  {
   "cell_type": "code",
   "execution_count": 13,
   "id": "e23e67ae-e126-4aa7-b62a-36cc885c1fbb",
   "metadata": {},
   "outputs": [
    {
     "data": {
      "text/plain": [
       "7"
      ]
     },
     "execution_count": 13,
     "metadata": {},
     "output_type": "execute_result"
    }
   ],
   "source": [
    "round(6.51)"
   ]
  },
  {
   "cell_type": "code",
   "execution_count": 14,
   "id": "1cff2ab1-7a3a-4746-aad0-6db7ca1efb87",
   "metadata": {},
   "outputs": [
    {
     "data": {
      "text/plain": [
       "6"
      ]
     },
     "execution_count": 14,
     "metadata": {},
     "output_type": "execute_result"
    }
   ],
   "source": [
    "round(6.49)"
   ]
  },
  {
   "cell_type": "code",
   "execution_count": 15,
   "id": "8f61fedf-336b-4399-bca6-a303291c067d",
   "metadata": {},
   "outputs": [
    {
     "data": {
      "text/plain": [
       "6.495"
      ]
     },
     "execution_count": 15,
     "metadata": {},
     "output_type": "execute_result"
    }
   ],
   "source": [
    "round(6.49459836,3)"
   ]
  },
  {
   "cell_type": "code",
   "execution_count": 16,
   "id": "de75c009-654d-4f36-91f6-0115284e5593",
   "metadata": {},
   "outputs": [
    {
     "name": "stdout",
     "output_type": "stream",
     "text": [
      "square root of 45 is 6.71\n"
     ]
    }
   ],
   "source": [
    "print(\"square root of {} is {}\".format(45,round(45**(1/2),2 ) ) )"
   ]
  },
  {
   "cell_type": "code",
   "execution_count": 17,
   "id": "1686f957-6c28-4c85-87e6-e3ec2f25e618",
   "metadata": {},
   "outputs": [
    {
     "name": "stdout",
     "output_type": "stream",
     "text": [
      "cube root of 45 is 3.5569\n"
     ]
    }
   ],
   "source": [
    "print(\"cube root of {} is {}\".format(45,round(45**(1/3),4 ) ) )"
   ]
  },
  {
   "cell_type": "code",
   "execution_count": 18,
   "id": "768c88d5-39a0-4075-bf15-8dd48ce55465",
   "metadata": {},
   "outputs": [
    {
     "name": "stdout",
     "output_type": "stream",
     "text": [
      "1 hours and 1 min\n"
     ]
    }
   ],
   "source": [
    "print(\"{} hours and {} min\".format(61//60,61%60))"
   ]
  },
  {
   "cell_type": "code",
   "execution_count": 19,
   "id": "83fcf9ce-5340-43ae-908c-68860d69f3fb",
   "metadata": {},
   "outputs": [
    {
     "data": {
      "text/plain": [
       "2"
      ]
     },
     "execution_count": 19,
     "metadata": {},
     "output_type": "execute_result"
    }
   ],
   "source": [
    "62%60"
   ]
  },
  {
   "cell_type": "code",
   "execution_count": 20,
   "id": "1c39fc6e-101f-4ed0-beaa-ea31c32b71e9",
   "metadata": {},
   "outputs": [
    {
     "data": {
      "text/plain": [
       "1"
      ]
     },
     "execution_count": 20,
     "metadata": {},
     "output_type": "execute_result"
    }
   ],
   "source": [
    "60//60"
   ]
  },
  {
   "cell_type": "code",
   "execution_count": 1,
   "id": "83e2ef0d-ff5e-48d8-8539-8cbd487ca419",
   "metadata": {},
   "outputs": [],
   "source": [
    "a=180"
   ]
  },
  {
   "cell_type": "code",
   "execution_count": 2,
   "id": "09e44f2c-8523-4311-8d84-f1aeeea2f097",
   "metadata": {},
   "outputs": [
    {
     "name": "stdout",
     "output_type": "stream",
     "text": [
      "3 hours and 0 min in 180 minutes\n"
     ]
    }
   ],
   "source": [
    "print(\"{} hours and {} min in {} minutes\".format(a//60,a%60,a))"
   ]
  },
  {
   "cell_type": "code",
   "execution_count": 3,
   "id": "1d72b153-f29f-412d-9ff0-6820e32ef7ba",
   "metadata": {},
   "outputs": [],
   "source": [
    "b=5890"
   ]
  },
  {
   "cell_type": "code",
   "execution_count": 4,
   "id": "17326617-9b9f-4545-8e7a-23896082e114",
   "metadata": {},
   "outputs": [
    {
     "name": "stdout",
     "output_type": "stream",
     "text": [
      "245 days in 98 hours and 10 min in 5890 minutes\n"
     ]
    }
   ],
   "source": [
    "print(\"{} days in {} hours and {} min in {} minutes\".format(b//24,b//60,b%60,b))"
   ]
  },
  {
   "cell_type": "code",
   "execution_count": 5,
   "id": "87e3b4ef-8810-4cc3-8493-fd95af64e1ab",
   "metadata": {},
   "outputs": [],
   "source": [
    "c=1440"
   ]
  },
  {
   "cell_type": "code",
   "execution_count": 6,
   "id": "64bf925e-a6a4-48c6-b690-1c9904b29727",
   "metadata": {},
   "outputs": [
    {
     "name": "stdout",
     "output_type": "stream",
     "text": [
      "1 day in 24 hours and 0 min\n"
     ]
    }
   ],
   "source": [
    "print(\"{} day in {} hours and {} min\".format(c//1440,c//60,c%60))"
   ]
  },
  {
   "cell_type": "code",
   "execution_count": 22,
   "id": "e8414787-3931-4b39-af11-001031b18d40",
   "metadata": {},
   "outputs": [],
   "source": [
    "a= 155689"
   ]
  },
  {
   "cell_type": "code",
   "execution_count": 23,
   "id": "574d5ce6-7dbb-49b0-af94-d8bb1af784e3",
   "metadata": {},
   "outputs": [
    {
     "name": "stdout",
     "output_type": "stream",
     "text": [
      "2594 hours and 49 min\n"
     ]
    }
   ],
   "source": [
    "print(\"{} hours and {} min\".format(155689//60,155689%60))"
   ]
  },
  {
   "cell_type": "code",
   "execution_count": 30,
   "id": "b86476cd-875f-42d9-adad-9018bed5b18d",
   "metadata": {},
   "outputs": [
    {
     "name": "stdout",
     "output_type": "stream",
     "text": [
      "108 days and 2 hours and 49 min\n"
     ]
    }
   ],
   "source": [
    "print(\"{} days and {} hours and {} min\".format((155689//60)//24,(155689//60)%24,(155689%60)))"
   ]
  },
  {
   "cell_type": "code",
   "execution_count": null,
   "id": "b6c0994a-2190-4a90-8244-ae51eac4a2c2",
   "metadata": {},
   "outputs": [],
   "source": [
    "a=1457986"
   ]
  },
  {
   "cell_type": "code",
   "execution_count": 31,
   "id": "40346b3d-c163-4129-81ba-fe53aee0a535",
   "metadata": {},
   "outputs": [
    {
     "name": "stdout",
     "output_type": "stream",
     "text": [
      "1012 days and 11 hours and 46 min\n"
     ]
    }
   ],
   "source": [
    "print(\"{} days and {} hours and {} min\".format((1457986//60)//24,(1457986//60)%24,(1457986%60)))"
   ]
  },
  {
   "cell_type": "code",
   "execution_count": 33,
   "id": "70ae3ad9-512d-4405-b1d5-e64c3d9799cd",
   "metadata": {},
   "outputs": [],
   "source": [
    "b=1457986"
   ]
  },
  {
   "cell_type": "code",
   "execution_count": 36,
   "id": "871ba8ce-d088-4cb8-9e1a-a3aacf529afc",
   "metadata": {},
   "outputs": [
    {
     "name": "stdout",
     "output_type": "stream",
     "text": [
      "16 days and 20 hours and 59 min and 46 sec\n"
     ]
    }
   ],
   "source": [
    "print(\"{} days and {} hours and {} min and {} sec\".format((b//1440)//60,(b//3600)%24,(b//60)%60,b%60))"
   ]
  },
  {
   "cell_type": "markdown",
   "id": "101bfb45-904a-4fb2-b44d-78ea0f478d4e",
   "metadata": {},
   "source": [
    "***DAY 2***\n",
    "\n",
    "VARIABLES\n",
    "\n",
    "RULES\n",
    "\n",
    "1.There is a logical length for variable name\n",
    "\n",
    "2.Name must be start with_or text\n",
    "\n",
    "3.There is no space in variable name\n",
    "\n",
    "4.Not allowed to use reserved keyword\n",
    "\n",
    "\n",
    "***COMPARISON OPERATORS\n",
    "\n",
    "greater than >\n",
    "\n",
    "smaller than <\n",
    "                 \n",
    "greater than equals to >=\n",
    "\n",
    "smaller than equals to <=\n",
    "\n",
    "equals to ==\n",
    "\n",
    "not equals to !="
   ]
  },
  {
   "cell_type": "code",
   "execution_count": 9,
   "id": "ad054c4e-ffd2-4cc1-be9c-be35005edbef",
   "metadata": {},
   "outputs": [],
   "source": [
    "a=10\n",
    "b=68"
   ]
  },
  {
   "cell_type": "code",
   "execution_count": 10,
   "id": "3434c683-7d1e-4834-b352-500cbfe85fc4",
   "metadata": {},
   "outputs": [
    {
     "data": {
      "text/plain": [
       "False"
      ]
     },
     "execution_count": 10,
     "metadata": {},
     "output_type": "execute_result"
    }
   ],
   "source": [
    "a>b"
   ]
  },
  {
   "cell_type": "code",
   "execution_count": 11,
   "id": "e10af59c-d49f-42a8-bed5-7c45e5d2cb17",
   "metadata": {},
   "outputs": [
    {
     "data": {
      "text/plain": [
       "True"
      ]
     },
     "execution_count": 11,
     "metadata": {},
     "output_type": "execute_result"
    }
   ],
   "source": [
    "a<b"
   ]
  },
  {
   "cell_type": "code",
   "execution_count": 12,
   "id": "15719130-e67e-4845-b09e-b4ddeacd3327",
   "metadata": {},
   "outputs": [
    {
     "data": {
      "text/plain": [
       "True"
      ]
     },
     "execution_count": 12,
     "metadata": {},
     "output_type": "execute_result"
    }
   ],
   "source": [
    "a!=b"
   ]
  },
  {
   "cell_type": "code",
   "execution_count": 13,
   "id": "1c23f18b-781e-43ab-b032-37bfec9485ce",
   "metadata": {},
   "outputs": [
    {
     "data": {
      "text/plain": [
       "True"
      ]
     },
     "execution_count": 13,
     "metadata": {},
     "output_type": "execute_result"
    }
   ],
   "source": [
    "a<=b"
   ]
  },
  {
   "cell_type": "code",
   "execution_count": 14,
   "id": "b4dfa47a-ff7e-4fc3-b132-fef4d4509972",
   "metadata": {},
   "outputs": [
    {
     "data": {
      "text/plain": [
       "False"
      ]
     },
     "execution_count": 14,
     "metadata": {},
     "output_type": "execute_result"
    }
   ],
   "source": [
    "a>=b"
   ]
  },
  {
   "cell_type": "code",
   "execution_count": 15,
   "id": "91c63a30-3dc5-4c26-a63d-35b70366a276",
   "metadata": {},
   "outputs": [
    {
     "data": {
      "text/plain": [
       "False"
      ]
     },
     "execution_count": 15,
     "metadata": {},
     "output_type": "execute_result"
    }
   ],
   "source": [
    "a==b"
   ]
  },
  {
   "cell_type": "markdown",
   "id": "a19edf62-36ca-4263-864d-fca7c06aff43",
   "metadata": {},
   "source": [
    "***DATA TYPES***\n",
    "\n",
    "int will read only whole numbers\n",
    "\n",
    "float will read both whole & decimal numbers\n",
    "\n",
    "str anything in \"\",'',\"\"\" \"\"\" called string \n",
    "\n",
    "bool True = 1 & False = 0\n",
    "\n"
   ]
  },
  {
   "cell_type": "code",
   "execution_count": 16,
   "id": "23d05bc9-7569-43b7-9d49-cc6be921552b",
   "metadata": {},
   "outputs": [],
   "source": [
    "q=5\n",
    "w=5.5\n",
    "e='hello'\n",
    "t=True\n"
   ]
  },
  {
   "cell_type": "code",
   "execution_count": 17,
   "id": "84a67f24-09cf-438d-b444-76508a0f0839",
   "metadata": {},
   "outputs": [
    {
     "name": "stdout",
     "output_type": "stream",
     "text": [
      "<class 'int'>\n",
      "<class 'float'>\n",
      "<class 'str'>\n",
      "<class 'bool'>\n"
     ]
    }
   ],
   "source": [
    "# type casting tells about the assigned datatype of variables\n",
    "\n",
    "print(type(q))\n",
    "print(type(w))\n",
    "print(type(e))\n",
    "print(type(t))\n"
   ]
  },
  {
   "cell_type": "code",
   "execution_count": 18,
   "id": "840a14d3-5dbb-4781-9dc9-92779adc81b8",
   "metadata": {},
   "outputs": [
    {
     "name": "stdout",
     "output_type": "stream",
     "text": [
      "Variable   Type     Data/Info\n",
      "-----------------------------\n",
      "a          int      10\n",
      "b          int      68\n",
      "c          int      1440\n",
      "e          str      hello\n",
      "q          int      5\n",
      "t          bool     True\n",
      "w          float    5.5\n"
     ]
    }
   ],
   "source": [
    "# dictionary / history of variable\n",
    "\n",
    "%whos"
   ]
  },
  {
   "cell_type": "code",
   "execution_count": 19,
   "id": "f94e8bb7-ee19-4398-89d4-eff4e199c247",
   "metadata": {},
   "outputs": [],
   "source": [
    "#to delete any variable from history\n",
    "\n",
    "del(e)"
   ]
  },
  {
   "cell_type": "code",
   "execution_count": 20,
   "id": "ca6f7948-8ef1-424a-8dfa-91d0bf2cfb3a",
   "metadata": {},
   "outputs": [
    {
     "data": {
      "text/plain": [
       "str"
      ]
     },
     "execution_count": 20,
     "metadata": {},
     "output_type": "execute_result"
    }
   ],
   "source": [
    "a=\"123\"\n",
    "type(a)"
   ]
  },
  {
   "cell_type": "markdown",
   "id": "d9e2eff8-8457-4265-bd75-22669d194cf7",
   "metadata": {},
   "source": [
    "**CHANGES DATATYPE**"
   ]
  },
  {
   "cell_type": "code",
   "execution_count": 21,
   "id": "d8738285-ab80-459c-a587-aa81b898eb7c",
   "metadata": {},
   "outputs": [
    {
     "data": {
      "text/plain": [
       "123.0"
      ]
     },
     "execution_count": 21,
     "metadata": {},
     "output_type": "execute_result"
    }
   ],
   "source": [
    "float(a)"
   ]
  },
  {
   "cell_type": "code",
   "execution_count": 22,
   "id": "d64e4436-2eea-403e-b7cb-74c933e9fe58",
   "metadata": {},
   "outputs": [
    {
     "data": {
      "text/plain": [
       "123"
      ]
     },
     "execution_count": 22,
     "metadata": {},
     "output_type": "execute_result"
    }
   ],
   "source": [
    "int(a)"
   ]
  },
  {
   "cell_type": "code",
   "execution_count": 23,
   "id": "51bc05e0-b99b-4bc4-a2f9-f4aacc301177",
   "metadata": {},
   "outputs": [
    {
     "data": {
      "text/plain": [
       "'45'"
      ]
     },
     "execution_count": 23,
     "metadata": {},
     "output_type": "execute_result"
    }
   ],
   "source": [
    "h='45'\n",
    "h"
   ]
  },
  {
   "cell_type": "code",
   "execution_count": 24,
   "id": "3d130558-b54e-4c4f-bd3e-756b7552b244",
   "metadata": {},
   "outputs": [
    {
     "data": {
      "text/plain": [
       "'45'"
      ]
     },
     "execution_count": 24,
     "metadata": {},
     "output_type": "execute_result"
    }
   ],
   "source": [
    "str(h)"
   ]
  },
  {
   "cell_type": "markdown",
   "id": "4978c551-313f-4b22-811b-8fa8717a1b41",
   "metadata": {},
   "source": [
    "***USER INPUT***"
   ]
  },
  {
   "cell_type": "code",
   "execution_count": 26,
   "id": "e03da46d-d883-4cf8-85fc-0a5d8d612e20",
   "metadata": {},
   "outputs": [
    {
     "name": "stdin",
     "output_type": "stream",
     "text": [
      " 1\n"
     ]
    }
   ],
   "source": [
    "a = input()    #by default it reads string"
   ]
  },
  {
   "cell_type": "code",
   "execution_count": 27,
   "id": "81529af1-00f5-481d-9f1e-70b18633a2b2",
   "metadata": {},
   "outputs": [
    {
     "data": {
      "text/plain": [
       "str"
      ]
     },
     "execution_count": 27,
     "metadata": {},
     "output_type": "execute_result"
    }
   ],
   "source": [
    "type(a)"
   ]
  },
  {
   "cell_type": "code",
   "execution_count": 28,
   "id": "a4d0323a-eafc-4f77-a271-b91aaf00fe1b",
   "metadata": {},
   "outputs": [
    {
     "name": "stdin",
     "output_type": "stream",
     "text": [
      " 2\n"
     ]
    }
   ],
   "source": [
    "w = int(input())"
   ]
  },
  {
   "cell_type": "code",
   "execution_count": 29,
   "id": "ac0cef62-e71d-4bd7-a066-45eeaa6594bd",
   "metadata": {},
   "outputs": [
    {
     "name": "stdin",
     "output_type": "stream",
     "text": [
      " 8\n"
     ]
    }
   ],
   "source": [
    "x = float(input())"
   ]
  },
  {
   "cell_type": "code",
   "execution_count": 30,
   "id": "f42264ff-afce-4b57-94b6-62b4e9cc5dcf",
   "metadata": {},
   "outputs": [
    {
     "name": "stdin",
     "output_type": "stream",
     "text": [
      " 3\n"
     ]
    }
   ],
   "source": [
    "x = float(input())"
   ]
  },
  {
   "cell_type": "markdown",
   "id": "55e00690-3a10-4daf-801a-60d0dcd680f0",
   "metadata": {},
   "source": [
    "***STRING***"
   ]
  },
  {
   "cell_type": "code",
   "execution_count": 34,
   "id": "f0322ab4-7c19-4b02-9c09-2d7899594a75",
   "metadata": {},
   "outputs": [],
   "source": [
    "st = \"Hello Ma'am meet me at the shop or mail me on python@gmail.com at 9:00PM\""
   ]
  },
  {
   "cell_type": "markdown",
   "id": "cd516cd4-7a2c-4339-8c21-b0741882db10",
   "metadata": {},
   "source": [
    "***STRING FUNCTIONS***\n",
    "\n",
    "len(str)\n",
    "\n",
    "st.upper()\n",
    "\n",
    "st.lower()\n",
    "\n",
    "st.capitalize()\n",
    "\n",
    "st.title()\n",
    "\n",
    "st.removeprefix()\n",
    "\n",
    "st.removesuffix()\n",
    "\n",
    "st.split()\n",
    "\n",
    "st.lstrip()\n",
    "\n",
    "st.rstip()\n",
    "\n",
    "st.find()\n",
    "\n",
    "st.count()\n",
    "\n",
    "st.replace()"
   ]
  },
  {
   "cell_type": "code",
   "execution_count": 35,
   "id": "7a14498e-6c6c-4c1e-b41c-4aec2d35a087",
   "metadata": {},
   "outputs": [
    {
     "data": {
      "text/plain": [
       "72"
      ]
     },
     "execution_count": 35,
     "metadata": {},
     "output_type": "execute_result"
    }
   ],
   "source": [
    "len(st) #CHECKS THE LENGTH OF STRING"
   ]
  },
  {
   "cell_type": "code",
   "execution_count": 36,
   "id": "bc9246b4-f6bf-43aa-9734-796052d21a66",
   "metadata": {},
   "outputs": [
    {
     "data": {
      "text/plain": [
       "\"HELLO MA'AM MEET ME AT THE SHOP OR MAIL ME ON PYTHON@GMAIL.COM AT 9:00PM\""
      ]
     },
     "execution_count": 36,
     "metadata": {},
     "output_type": "execute_result"
    }
   ],
   "source": [
    "st.upper() #CONVERTS LOWERCASE TO UPPERCASE"
   ]
  },
  {
   "cell_type": "code",
   "execution_count": 37,
   "id": "658a76aa-3301-4899-930f-5ef9606502b3",
   "metadata": {},
   "outputs": [
    {
     "data": {
      "text/plain": [
       "\"hello ma'am meet me at the shop or mail me on python@gmail.com at 9:00pm\""
      ]
     },
     "execution_count": 37,
     "metadata": {},
     "output_type": "execute_result"
    }
   ],
   "source": [
    "st.lower() #CONVERTS UPPERCASE TO LOWERCASE"
   ]
  },
  {
   "cell_type": "code",
   "execution_count": 38,
   "id": "d04a05d9-b3c7-49f9-8a1c-0c11e58727d8",
   "metadata": {},
   "outputs": [
    {
     "data": {
      "text/plain": [
       "\"Hello ma'am meet me at the shop or mail me on python@gmail.com at 9:00pm\""
      ]
     },
     "execution_count": 38,
     "metadata": {},
     "output_type": "execute_result"
    }
   ],
   "source": [
    "st.capitalize() #CAPATILZES THE IST ALPHABET OF IST WORD"
   ]
  },
  {
   "cell_type": "code",
   "execution_count": 39,
   "id": "40e67d35-99fc-4dfc-b704-e6d65ef6b555",
   "metadata": {},
   "outputs": [
    {
     "data": {
      "text/plain": [
       "\"Hello Ma'Am Meet Me At The Shop Or Mail Me On Python@Gmail.Com At 9:00Pm\""
      ]
     },
     "execution_count": 39,
     "metadata": {},
     "output_type": "execute_result"
    }
   ],
   "source": [
    "st.title() #CAPATILZES THE IST ALPHABET OF EACH WORD AFTER SPACE,DELIMETER & SPECIAL CHARACTER"
   ]
  },
  {
   "cell_type": "code",
   "execution_count": 40,
   "id": "5c487a80-f352-4211-8167-c3e1e61f8fd6",
   "metadata": {},
   "outputs": [
    {
     "data": {
      "text/plain": [
       "\" Ma'am meet me at the shop or mail me on python@gmail.com at 9:00PM\""
      ]
     },
     "execution_count": 40,
     "metadata": {},
     "output_type": "execute_result"
    }
   ],
   "source": [
    "st.removeprefix(\"Hello\")#REMOVES FIRST WORD/ALPHABET"
   ]
  },
  {
   "cell_type": "code",
   "execution_count": 41,
   "id": "432f837d-a784-4775-94c9-956376086cb3",
   "metadata": {},
   "outputs": [
    {
     "data": {
      "text/plain": [
       "['Hello',\n",
       " \"Ma'am\",\n",
       " 'meet',\n",
       " 'me',\n",
       " 'at',\n",
       " 'the',\n",
       " 'shop',\n",
       " 'or',\n",
       " 'mail',\n",
       " 'me',\n",
       " 'on',\n",
       " 'python@gmail.com',\n",
       " 'at',\n",
       " '9:00PM']"
      ]
     },
     "execution_count": 41,
     "metadata": {},
     "output_type": "execute_result"
    }
   ],
   "source": [
    "st.split() #SEPEARTES THE WORDS OF STRING THROUGH SPACE"
   ]
  },
  {
   "cell_type": "code",
   "execution_count": 42,
   "id": "20f67e6b-66d2-40df-aa7d-5fcc9e0d2eb4",
   "metadata": {},
   "outputs": [
    {
     "data": {
      "text/plain": [
       "\"Hello Ma'am meet me at the shop or mail me on python@gmail.com at 9:00\""
      ]
     },
     "execution_count": 42,
     "metadata": {},
     "output_type": "execute_result"
    }
   ],
   "source": [
    "st.removesuffix(\"PM\") #REMOVES LAST WORD/ALPHABET"
   ]
  },
  {
   "cell_type": "code",
   "execution_count": 43,
   "id": "ed5df80a-dd0e-43bf-8241-7f78f234f7af",
   "metadata": {},
   "outputs": [
    {
     "data": {
      "text/plain": [
       "\"Hello Ma'am meet me at the shop or mail me on python@gmail.com at 9:00PM\""
      ]
     },
     "execution_count": 43,
     "metadata": {},
     "output_type": "execute_result"
    }
   ],
   "source": [
    "st1 = \" hello \"\n",
    "st.lstrip()  #gives space at left"
   ]
  },
  {
   "cell_type": "code",
   "execution_count": 44,
   "id": "287f5d68-68c6-4ef8-9c0e-d8332df4b1b1",
   "metadata": {},
   "outputs": [
    {
     "data": {
      "text/plain": [
       "' hello'"
      ]
     },
     "execution_count": 44,
     "metadata": {},
     "output_type": "execute_result"
    }
   ],
   "source": [
    "st1.rstrip()    #gives space at right"
   ]
  },
  {
   "cell_type": "code",
   "execution_count": 45,
   "id": "30a5e300-2e9b-4a6e-ba90-2a1888eabb68",
   "metadata": {},
   "outputs": [
    {
     "data": {
      "text/plain": [
       "5"
      ]
     },
     "execution_count": 45,
     "metadata": {},
     "output_type": "execute_result"
    }
   ],
   "source": [
    "st1.find(\"o\") #tells about the index value of ist occurence of the alphabet"
   ]
  },
  {
   "cell_type": "code",
   "execution_count": 46,
   "id": "f6d7361d-f158-45f5-9682-ba19747809ea",
   "metadata": {},
   "outputs": [
    {
     "data": {
      "text/plain": [
       "30"
      ]
     },
     "execution_count": 46,
     "metadata": {},
     "output_type": "execute_result"
    }
   ],
   "source": [
    "st.find(\"p\")"
   ]
  },
  {
   "cell_type": "code",
   "execution_count": 1,
   "id": "0fc28a0d-dfb4-4f2f-a521-324a960a7954",
   "metadata": {},
   "outputs": [],
   "source": [
    "***INDEXING***"
   ]
  },
  {
   "cell_type": "code",
   "execution_count": 2,
   "id": "971080f6-3da8-4d9e-9e00-4680a0e70ed7",
   "metadata": {},
   "outputs": [],
   "source": [
    "a= \"hello\""
   ]
  },
  {
   "cell_type": "code",
   "execution_count": 3,
   "id": "b8532fc6-f6c7-4b46-9ede-8bf5d7181544",
   "metadata": {},
   "outputs": [
    {
     "data": {
      "text/plain": [
       "'h'"
      ]
     },
     "execution_count": 3,
     "metadata": {},
     "output_type": "execute_result"
    }
   ],
   "source": [
    "a[0]"
   ]
  },
  {
   "cell_type": "markdown",
   "id": "0e11faee-958e-4d9f-9d93-9097c5c0f95f",
   "metadata": {},
   "source": [
    "**SLICING**"
   ]
  },
  {
   "cell_type": "markdown",
   "id": "fc32d2e7-a42c-48db-981b-e1bd4e018dec",
   "metadata": {},
   "source": [
    "**BASIC INDEX**\n",
    "variable[\"start\":\"stop\":\"step\"]"
   ]
  },
  {
   "cell_type": "code",
   "execution_count": 7,
   "id": "5171d096-f20a-4e03-8d1d-58bfc2ab4359",
   "metadata": {},
   "outputs": [],
   "source": [
    "w = \"0123456789\""
   ]
  },
  {
   "cell_type": "code",
   "execution_count": 8,
   "id": "cdaf9d8d-c903-48ad-94f5-8cfd38e3c615",
   "metadata": {},
   "outputs": [
    {
     "data": {
      "text/plain": [
       "'012'"
      ]
     },
     "execution_count": 8,
     "metadata": {},
     "output_type": "execute_result"
    }
   ],
   "source": [
    "w[0:3]"
   ]
  },
  {
   "cell_type": "code",
   "execution_count": 9,
   "id": "801c0e00-1efd-483f-b941-5e20f3179e2c",
   "metadata": {},
   "outputs": [
    {
     "data": {
      "text/plain": [
       "'012345'"
      ]
     },
     "execution_count": 9,
     "metadata": {},
     "output_type": "execute_result"
    }
   ],
   "source": [
    "w[0:6]"
   ]
  },
  {
   "cell_type": "code",
   "execution_count": 10,
   "id": "9ed2dd76-71f2-4fd8-92fb-e7035033a3c3",
   "metadata": {},
   "outputs": [
    {
     "data": {
      "text/plain": [
       "'02468'"
      ]
     },
     "execution_count": 10,
     "metadata": {},
     "output_type": "execute_result"
    }
   ],
   "source": [
    "w[0:10:2]  #step gives the gap."
   ]
  },
  {
   "cell_type": "code",
   "execution_count": 11,
   "id": "18bd15bb-aa26-45fc-8cab-a7c34bd45301",
   "metadata": {},
   "outputs": [],
   "source": [
    "r = \"there is a class\""
   ]
  },
  {
   "cell_type": "code",
   "execution_count": 12,
   "id": "a4e89ee1-6cdc-44d3-ab4b-ec8411d278bd",
   "metadata": {},
   "outputs": [
    {
     "data": {
      "text/plain": [
       "'teei '"
      ]
     },
     "execution_count": 12,
     "metadata": {},
     "output_type": "execute_result"
    }
   ],
   "source": [
    "r[0:10:2]"
   ]
  },
  {
   "cell_type": "code",
   "execution_count": 13,
   "id": "c4c0fecc-0d34-4a19-823c-f961cfacf535",
   "metadata": {},
   "outputs": [
    {
     "data": {
      "text/plain": [
       "'there is a class'"
      ]
     },
     "execution_count": 13,
     "metadata": {},
     "output_type": "execute_result"
    }
   ],
   "source": [
    "r[0:]"
   ]
  },
  {
   "cell_type": "code",
   "execution_count": 14,
   "id": "32f945cf-c978-430e-8d4b-6809f7ff66bb",
   "metadata": {},
   "outputs": [
    {
     "data": {
      "text/plain": [
       "'0123456789'"
      ]
     },
     "execution_count": 14,
     "metadata": {},
     "output_type": "execute_result"
    }
   ],
   "source": [
    "w[0::]  # when the value of stop & step not given then it gives the whole string as output"
   ]
  },
  {
   "cell_type": "code",
   "execution_count": 15,
   "id": "20c2bc4b-fd28-4563-ade3-c755399f8d3f",
   "metadata": {},
   "outputs": [
    {
     "data": {
      "text/plain": [
       "'02468'"
      ]
     },
     "execution_count": 15,
     "metadata": {},
     "output_type": "execute_result"
    }
   ],
   "source": [
    "w[0::2]  #when the value of stop is not given it prints the string with the given gap value."
   ]
  },
  {
   "cell_type": "markdown",
   "id": "f4f698a4-5a4a-48a3-98eb-09e9dae78336",
   "metadata": {},
   "source": [
    "***NEGATIVE INDEXING***"
   ]
  },
  {
   "cell_type": "code",
   "execution_count": 16,
   "id": "fc93d147-be21-44cb-957a-919099f41a6e",
   "metadata": {},
   "outputs": [
    {
     "data": {
      "text/plain": [
       "'9'"
      ]
     },
     "execution_count": 16,
     "metadata": {},
     "output_type": "execute_result"
    }
   ],
   "source": [
    "w[-1]"
   ]
  },
  {
   "cell_type": "code",
   "execution_count": 17,
   "id": "3a7f9748-a12c-4280-8cbb-6f33b87d45b7",
   "metadata": {},
   "outputs": [
    {
     "data": {
      "text/plain": [
       "'8'"
      ]
     },
     "execution_count": 17,
     "metadata": {},
     "output_type": "execute_result"
    }
   ],
   "source": [
    "w[-2]"
   ]
  },
  {
   "cell_type": "code",
   "execution_count": 18,
   "id": "0ee5aa3e-b025-403c-94ce-ed6c4d0a93c6",
   "metadata": {},
   "outputs": [
    {
     "data": {
      "text/plain": [
       "'789'"
      ]
     },
     "execution_count": 18,
     "metadata": {},
     "output_type": "execute_result"
    }
   ],
   "source": [
    "w[-3:]"
   ]
  },
  {
   "cell_type": "code",
   "execution_count": 19,
   "id": "6137eeff-4cfa-414d-862d-ac2e0b848c67",
   "metadata": {},
   "outputs": [
    {
     "data": {
      "text/plain": [
       "'7531'"
      ]
     },
     "execution_count": 19,
     "metadata": {},
     "output_type": "execute_result"
    }
   ],
   "source": [
    "w[-3::-2]"
   ]
  },
  {
   "cell_type": "code",
   "execution_count": 26,
   "id": "cd475254-a61f-4765-8fb8-c5c686beb064",
   "metadata": {},
   "outputs": [
    {
     "data": {
      "text/plain": [
       "15"
      ]
     },
     "execution_count": 26,
     "metadata": {},
     "output_type": "execute_result"
    }
   ],
   "source": [
    "t.find(\"people\")"
   ]
  },
  {
   "cell_type": "code",
   "execution_count": 23,
   "id": "1c3f1b23-1da2-46b6-9121-0bc4c2d040c8",
   "metadata": {},
   "outputs": [],
   "source": [
    "t =\"there are many people in the world but i dont know any of them\""
   ]
  },
  {
   "cell_type": "code",
   "execution_count": 24,
   "id": "db83fe4a-bc90-4749-9396-e07b914b4d91",
   "metadata": {},
   "outputs": [],
   "source": [
    "#q1 extract \"people\" from the above string\n",
    "#q2 extract  \"know any of\" from the above string\n",
    "#q3 extract  \"world\" from the above string\n",
    "#q4 extract  \"are many people in the\" from the above string\n",
    "\n"
   ]
  },
  {
   "cell_type": "code",
   "execution_count": 29,
   "id": "a0611066-7a62-412a-87e6-1bae9f8f012f",
   "metadata": {},
   "outputs": [
    {
     "data": {
      "text/plain": [
       "'people'"
      ]
     },
     "execution_count": 29,
     "metadata": {},
     "output_type": "execute_result"
    }
   ],
   "source": [
    "#q1\n",
    "t[15:21]"
   ]
  },
  {
   "cell_type": "code",
   "execution_count": 30,
   "id": "a5884314-cbee-4825-991e-4e5fa16aef7e",
   "metadata": {},
   "outputs": [
    {
     "data": {
      "text/plain": [
       "46"
      ]
     },
     "execution_count": 30,
     "metadata": {},
     "output_type": "execute_result"
    }
   ],
   "source": [
    "#q2\n",
    "t.find(\"know\")"
   ]
  },
  {
   "cell_type": "code",
   "execution_count": 31,
   "id": "920a538b-71e0-4a92-a5c6-a62469cc28df",
   "metadata": {},
   "outputs": [
    {
     "data": {
      "text/plain": [
       "55"
      ]
     },
     "execution_count": 31,
     "metadata": {},
     "output_type": "execute_result"
    }
   ],
   "source": [
    "t.find(\"of\")"
   ]
  },
  {
   "cell_type": "code",
   "execution_count": 33,
   "id": "d02cd106-fe14-45df-8c7c-81e2c3c7bc43",
   "metadata": {},
   "outputs": [
    {
     "data": {
      "text/plain": [
       "'know any of'"
      ]
     },
     "execution_count": 33,
     "metadata": {},
     "output_type": "execute_result"
    }
   ],
   "source": [
    "t[46:57]"
   ]
  },
  {
   "cell_type": "code",
   "execution_count": 34,
   "id": "4f861688-327c-428b-8940-be11d5fe0c7e",
   "metadata": {},
   "outputs": [
    {
     "data": {
      "text/plain": [
       "29"
      ]
     },
     "execution_count": 34,
     "metadata": {},
     "output_type": "execute_result"
    }
   ],
   "source": [
    "#q3\n",
    "t.find(\"world\")"
   ]
  },
  {
   "cell_type": "code",
   "execution_count": 35,
   "id": "78292c69-4455-46b0-bb7f-d958a813ecbb",
   "metadata": {},
   "outputs": [
    {
     "data": {
      "text/plain": [
       "'world'"
      ]
     },
     "execution_count": 35,
     "metadata": {},
     "output_type": "execute_result"
    }
   ],
   "source": [
    "t[29:34]"
   ]
  },
  {
   "cell_type": "code",
   "execution_count": 36,
   "id": "2fc92359-c92b-4d16-81ce-8573a0a33348",
   "metadata": {},
   "outputs": [
    {
     "data": {
      "text/plain": [
       "6"
      ]
     },
     "execution_count": 36,
     "metadata": {},
     "output_type": "execute_result"
    }
   ],
   "source": [
    "#q4\n",
    "t.find(\"are\")"
   ]
  },
  {
   "cell_type": "code",
   "execution_count": 38,
   "id": "7871c660-d199-4f55-a572-83f97f3cc047",
   "metadata": {},
   "outputs": [
    {
     "data": {
      "text/plain": [
       "25"
      ]
     },
     "execution_count": 38,
     "metadata": {},
     "output_type": "execute_result"
    }
   ],
   "source": [
    "t.find(\"the\",2)"
   ]
  },
  {
   "cell_type": "code",
   "execution_count": 40,
   "id": "eed79887-240f-48e5-8bad-66affc9b095d",
   "metadata": {},
   "outputs": [
    {
     "data": {
      "text/plain": [
       "'are many people in the'"
      ]
     },
     "execution_count": 40,
     "metadata": {},
     "output_type": "execute_result"
    }
   ],
   "source": [
    "t[6:28]"
   ]
  },
  {
   "cell_type": "code",
   "execution_count": 41,
   "id": "e0025475-423f-4372-b421-41e9d4085c2c",
   "metadata": {},
   "outputs": [
    {
     "data": {
      "text/plain": [
       "5"
      ]
     },
     "execution_count": 41,
     "metadata": {},
     "output_type": "execute_result"
    }
   ],
   "source": [
    "t.count(\"t\")"
   ]
  },
  {
   "cell_type": "code",
   "execution_count": 42,
   "id": "3165994b-296f-4b56-8feb-4a234cdec712",
   "metadata": {},
   "outputs": [
    {
     "data": {
      "text/plain": [
       "13"
      ]
     },
     "execution_count": 42,
     "metadata": {},
     "output_type": "execute_result"
    }
   ],
   "source": [
    "t.count(\" \")"
   ]
  },
  {
   "cell_type": "markdown",
   "id": "97544396-ef1c-4bb8-9c56-72389590cf75",
   "metadata": {},
   "source": [
    "**PRACTICE QUESTIONS**\n",
    "\n",
    "s=\"hello harry,please meet me @ coffee shop or email me @ python@gmail.com@11:00 am\"\n",
    "\n",
    "Q1 Convert Python@gmail.com into PYTHON@GMAIL.COM\n",
    "\n",
    "Q2 Split the words from the text \n",
    "\n",
    "Q3 Add \"robin said to harry that\" in the starting of the string \n",
    "\n",
    "Q4 Add \" harry replied ok i'll be there\" in the end of the string\n",
    "\n",
    "Q5 Reverse e= \"Example\" Output-->\" elpmaxe\"\n",
    "\n",
    "Q6 Select only even index from q=\"0123456789\""
   ]
  },
  {
   "cell_type": "code",
   "execution_count": 43,
   "id": "b35b1238-c19d-466a-8709-bd71dd4d711b",
   "metadata": {},
   "outputs": [],
   "source": [
    "s=\"hello harry,please meet me @ coffee shop or email me @ python@gmail.com@11:00 am\""
   ]
  },
  {
   "cell_type": "code",
   "execution_count": 44,
   "id": "4c0de9b7-f103-4497-8117-8941883b7a9f",
   "metadata": {},
   "outputs": [
    {
     "data": {
      "text/plain": [
       "55"
      ]
     },
     "execution_count": 44,
     "metadata": {},
     "output_type": "execute_result"
    }
   ],
   "source": [
    "s.find(\"python\")"
   ]
  },
  {
   "cell_type": "code",
   "execution_count": 45,
   "id": "6f54860a-4d03-465e-b5c0-74447bd87ce9",
   "metadata": {},
   "outputs": [
    {
     "data": {
      "text/plain": [
       "68"
      ]
     },
     "execution_count": 45,
     "metadata": {},
     "output_type": "execute_result"
    }
   ],
   "source": [
    "s.find(\"com\")"
   ]
  },
  {
   "cell_type": "code",
   "execution_count": 48,
   "id": "55ffef55-6788-4720-ae4b-6ab7dde4c0d8",
   "metadata": {},
   "outputs": [
    {
     "data": {
      "text/plain": [
       "'PYTHON@GMAIL.COM'"
      ]
     },
     "execution_count": 48,
     "metadata": {},
     "output_type": "execute_result"
    }
   ],
   "source": [
    "s[55:71].upper()"
   ]
  },
  {
   "cell_type": "code",
   "execution_count": 49,
   "id": "35bcc3e7-b257-4288-abb6-3370e524577f",
   "metadata": {},
   "outputs": [
    {
     "data": {
      "text/plain": [
       "['hello',\n",
       " 'harry,please',\n",
       " 'meet',\n",
       " 'me',\n",
       " '@',\n",
       " 'coffee',\n",
       " 'shop',\n",
       " 'or',\n",
       " 'email',\n",
       " 'me',\n",
       " '@',\n",
       " 'python@gmail.com@11:00',\n",
       " 'am']"
      ]
     },
     "execution_count": 49,
     "metadata": {},
     "output_type": "execute_result"
    }
   ],
   "source": [
    "s.split()"
   ]
  },
  {
   "cell_type": "code",
   "execution_count": 50,
   "id": "ebb0b1ff-6803-4dd8-b7e7-382ff54792cd",
   "metadata": {},
   "outputs": [
    {
     "data": {
      "text/plain": [
       "'hello harry,please meet me @ coffee shop or email me @ PYTHON@GMAIL.COM@11:00 am'"
      ]
     },
     "execution_count": 50,
     "metadata": {},
     "output_type": "execute_result"
    }
   ],
   "source": [
    "s.replace(\"python@gmail.com\",\"PYTHON@GMAIL.COM\")"
   ]
  },
  {
   "cell_type": "code",
   "execution_count": 58,
   "id": "428f5d3a-1083-4ba3-bbaf-92dd4615717c",
   "metadata": {},
   "outputs": [],
   "source": [
    "g=\"robin said to harry that\"\n",
    "m=\" hello harry,please meet me @ coffee shop or email me @ python@gmail.com@11:00 am\""
   ]
  },
  {
   "cell_type": "code",
   "execution_count": 59,
   "id": "d64339f6-3686-427d-9f27-fc34cb526d65",
   "metadata": {},
   "outputs": [
    {
     "data": {
      "text/plain": [
       "'robin said to harry that hello harry,please meet me @ coffee shop or email me @ python@gmail.com@11:00 am'"
      ]
     },
     "execution_count": 59,
     "metadata": {},
     "output_type": "execute_result"
    }
   ],
   "source": [
    "g+m            #s.replace(\"h\",\"robin said to harry that\")"
   ]
  },
  {
   "cell_type": "code",
   "execution_count": 61,
   "id": "09e53bb8-2201-46ec-b0d7-7f7f8ddd2197",
   "metadata": {},
   "outputs": [],
   "source": [
    "m=\"hello harry,please meet me @ coffee shop or email me @ python@gmail.com@11:00 am\"\n",
    "n=\" harry replied ok i'll be there\""
   ]
  },
  {
   "cell_type": "code",
   "execution_count": 62,
   "id": "dc487e08-930a-4ea7-96d1-431a3542ef1b",
   "metadata": {},
   "outputs": [
    {
     "data": {
      "text/plain": [
       "\"hello harry,please meet me @ coffee shop or email me @ python@gmail.com@11:00 am harry replied ok i'll be there\""
      ]
     },
     "execution_count": 62,
     "metadata": {},
     "output_type": "execute_result"
    }
   ],
   "source": [
    "m+n"
   ]
  },
  {
   "cell_type": "code",
   "execution_count": 54,
   "id": "1b4d6683-d030-4929-90e9-033599ad0f4d",
   "metadata": {},
   "outputs": [],
   "source": [
    "q=\"0123456789\""
   ]
  },
  {
   "cell_type": "code",
   "execution_count": 55,
   "id": "aedabbf2-9c16-4296-b150-6f0e55c0a98f",
   "metadata": {},
   "outputs": [
    {
     "data": {
      "text/plain": [
       "'02468'"
      ]
     },
     "execution_count": 55,
     "metadata": {},
     "output_type": "execute_result"
    }
   ],
   "source": [
    "q[0:10:2]"
   ]
  },
  {
   "cell_type": "code",
   "execution_count": 66,
   "id": "eea4e031-e1b0-41cd-b8d8-9135f770cb08",
   "metadata": {},
   "outputs": [
    {
     "data": {
      "text/plain": [
       "'xml'"
      ]
     },
     "execution_count": 66,
     "metadata": {},
     "output_type": "execute_result"
    }
   ],
   "source": [
    "e[1::2]"
   ]
  },
  {
   "cell_type": "code",
   "execution_count": 63,
   "id": "6dc7fb87-d3d7-4ed6-90ff-5fb51d277d1d",
   "metadata": {},
   "outputs": [],
   "source": [
    "e = \"example\""
   ]
  },
  {
   "cell_type": "code",
   "execution_count": 64,
   "id": "0bb5c591-c945-49db-991e-345604c480f6",
   "metadata": {},
   "outputs": [
    {
     "data": {
      "text/plain": [
       "'elpmaxe'"
      ]
     },
     "execution_count": 64,
     "metadata": {},
     "output_type": "execute_result"
    }
   ],
   "source": [
    "e[::-1]"
   ]
  },
  {
   "cell_type": "code",
   "execution_count": 48,
   "id": "87c554b6-130e-4cf5-a5b1-c01932375568",
   "metadata": {},
   "outputs": [],
   "source": [
    "a=\"harry\""
   ]
  },
  {
   "cell_type": "code",
   "execution_count": 49,
   "id": "47f32bc3-2562-476c-906f-80e86cd7de59",
   "metadata": {},
   "outputs": [
    {
     "data": {
      "text/plain": [
       "'yrrah'"
      ]
     },
     "execution_count": 49,
     "metadata": {},
     "output_type": "execute_result"
    }
   ],
   "source": [
    "a[-1::-1]"
   ]
  },
  {
   "cell_type": "code",
   "execution_count": null,
   "id": "dfb8e47a-db97-4dd0-b795-b655ae03d601",
   "metadata": {},
   "outputs": [],
   "source": []
  },
  {
   "cell_type": "code",
   "execution_count": null,
   "id": "a862605c-2a4e-4a84-aba2-4d3bead123c6",
   "metadata": {},
   "outputs": [],
   "source": []
  },
  {
   "cell_type": "markdown",
   "id": "ef42355f-37a3-41ce-a18e-0cbf04ea6779",
   "metadata": {},
   "source": [
    "# "
   ]
  }
 ],
 "metadata": {
  "kernelspec": {
   "display_name": "Python 3 (ipykernel)",
   "language": "python",
   "name": "python3"
  },
  "language_info": {
   "codemirror_mode": {
    "name": "ipython",
    "version": 3
   },
   "file_extension": ".py",
   "mimetype": "text/x-python",
   "name": "python",
   "nbconvert_exporter": "python",
   "pygments_lexer": "ipython3",
   "version": "3.12.4"
  }
 },
 "nbformat": 4,
 "nbformat_minor": 5
}
