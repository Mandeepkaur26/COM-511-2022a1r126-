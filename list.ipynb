{
 "cells": [
  {
   "cell_type": "markdown",
   "id": "f4295733-a1db-431d-a563-ee4871a12220",
   "metadata": {},
   "source": [
    "**LIST**\n",
    "\n",
    "It is an ordered collection of elements which is mutable and can store all types of data"
   ]
  },
  {
   "cell_type": "code",
   "execution_count": 2,
   "id": "e636755c-9bb3-435c-bb9a-8c50e98a4e84",
   "metadata": {},
   "outputs": [],
   "source": [
    "w =[]"
   ]
  },
  {
   "cell_type": "markdown",
   "id": "e38291ce-54a7-493f-aa2a-84b769bbc193",
   "metadata": {},
   "source": [
    "type(w)"
   ]
  },
  {
   "cell_type": "code",
   "execution_count": 3,
   "id": "99b39aaf-27af-4912-9038-b2add02404d4",
   "metadata": {},
   "outputs": [],
   "source": [
    "w=[0,1,2,3,5,9,20,11,25]   #ordered"
   ]
  },
  {
   "cell_type": "code",
   "execution_count": 4,
   "id": "92280402-9c8f-4118-9254-3980a19a9ecf",
   "metadata": {},
   "outputs": [
    {
     "data": {
      "text/plain": [
       "[0, 1, 2, 3, 5, 9, 20, 11, 25]"
      ]
     },
     "execution_count": 4,
     "metadata": {},
     "output_type": "execute_result"
    }
   ],
   "source": [
    "w"
   ]
  },
  {
   "cell_type": "code",
   "execution_count": 5,
   "id": "03f20088-7c4b-45bb-9d4b-4ebf1d6c1b19",
   "metadata": {},
   "outputs": [],
   "source": [
    "w.append(88)       #defines list as mutable i.e changes can be made"
   ]
  },
  {
   "cell_type": "code",
   "execution_count": 6,
   "id": "f5b4753c-369e-489f-a3f0-d6af5dd0972b",
   "metadata": {},
   "outputs": [
    {
     "data": {
      "text/plain": [
       "[0, 1, 2, 3, 5, 9, 20, 11, 25, 88]"
      ]
     },
     "execution_count": 6,
     "metadata": {},
     "output_type": "execute_result"
    }
   ],
   "source": [
    "w"
   ]
  },
  {
   "cell_type": "code",
   "execution_count": 7,
   "id": "fa95c261-1660-494f-9403-8220ee62fd64",
   "metadata": {},
   "outputs": [],
   "source": [
    "q = [1,1.5,\"string\",True,[1,2,3,\"new\",False]]        #stores all types of data"
   ]
  },
  {
   "cell_type": "code",
   "execution_count": 8,
   "id": "b798e3c0-d954-40f0-8335-b0411efbdd56",
   "metadata": {},
   "outputs": [
    {
     "data": {
      "text/plain": [
       "[1, 1.5, 'string', True, [1, 2, 3, 'new', False]]"
      ]
     },
     "execution_count": 8,
     "metadata": {},
     "output_type": "execute_result"
    }
   ],
   "source": [
    "q"
   ]
  },
  {
   "cell_type": "code",
   "execution_count": 9,
   "id": "b1571a61-7c4c-4abb-bd08-57951154ec56",
   "metadata": {},
   "outputs": [],
   "source": [
    "k1 = [0,1,2,3,4,5,6,7,8,9,10]"
   ]
  },
  {
   "cell_type": "code",
   "execution_count": 10,
   "id": "228e0cfb-ff45-461f-8e16-8458776c5b04",
   "metadata": {},
   "outputs": [
    {
     "data": {
      "text/plain": [
       "11"
      ]
     },
     "execution_count": 10,
     "metadata": {},
     "output_type": "execute_result"
    }
   ],
   "source": [
    "# print the number of elements\n",
    "len(k1)"
   ]
  },
  {
   "cell_type": "code",
   "execution_count": 11,
   "id": "08196387-9b1d-4d8c-be9e-3862813fbb6e",
   "metadata": {},
   "outputs": [
    {
     "data": {
      "text/plain": [
       "1"
      ]
     },
     "execution_count": 11,
     "metadata": {},
     "output_type": "execute_result"
    }
   ],
   "source": [
    "# count the no of given element\n",
    "k1.count(5)"
   ]
  },
  {
   "cell_type": "code",
   "execution_count": null,
   "id": "cf01cd65-7aed-42b9-8307-a3a39d9f407d",
   "metadata": {},
   "outputs": [],
   "source": [
    "# add the given elements in the end of the list\n",
    "k1.append(900)"
   ]
  },
  {
   "cell_type": "code",
   "execution_count": 13,
   "id": "f4fa6412-51a2-4394-91e2-a58767aa99ff",
   "metadata": {},
   "outputs": [
    {
     "data": {
      "text/plain": [
       "[0, 1, 2, 3, 4, 5, 6, 7, 8, 9, 10, 900]"
      ]
     },
     "execution_count": 13,
     "metadata": {},
     "output_type": "execute_result"
    }
   ],
   "source": [
    "k1"
   ]
  },
  {
   "cell_type": "code",
   "execution_count": 14,
   "id": "c62e5539-1fe9-41e9-9186-9661300a9e8d",
   "metadata": {},
   "outputs": [
    {
     "data": {
      "text/plain": [
       "900"
      ]
     },
     "execution_count": 14,
     "metadata": {},
     "output_type": "execute_result"
    }
   ],
   "source": [
    "# it prints and remove the last element from the list\n",
    "k1.pop()"
   ]
  },
  {
   "cell_type": "code",
   "execution_count": 15,
   "id": "6059e0f5-9407-464c-b37a-cae89b156902",
   "metadata": {},
   "outputs": [
    {
     "data": {
      "text/plain": [
       "[0, 1, 2, 3, 4, 5, 6, 7, 8, 9, 10]"
      ]
     },
     "execution_count": 15,
     "metadata": {},
     "output_type": "execute_result"
    }
   ],
   "source": [
    "k1"
   ]
  },
  {
   "cell_type": "code",
   "execution_count": 16,
   "id": "26d82337-93f9-43a6-b133-026d5b9f233c",
   "metadata": {},
   "outputs": [],
   "source": [
    "# it inserts the given element on the given index\n",
    "#syntax: variable.insert(index,element)\n",
    "k1.insert(2,300)"
   ]
  },
  {
   "cell_type": "code",
   "execution_count": 17,
   "id": "73499131-fd92-4b11-8798-dd7841179fb3",
   "metadata": {},
   "outputs": [
    {
     "data": {
      "text/plain": [
       "[0, 1, 300, 2, 3, 4, 5, 6, 7, 8, 9, 10]"
      ]
     },
     "execution_count": 17,
     "metadata": {},
     "output_type": "execute_result"
    }
   ],
   "source": [
    "k1"
   ]
  },
  {
   "cell_type": "code",
   "execution_count": 40,
   "id": "db31a565-2ea1-4a71-bdee-1bb1afde7552",
   "metadata": {},
   "outputs": [],
   "source": [
    "# it adds more than one element in the end of the list\n",
    "k1.extend([600,75,12])"
   ]
  },
  {
   "cell_type": "code",
   "execution_count": 41,
   "id": "1d0d4fb1-c4bf-40c3-94a9-023f3ff2c87c",
   "metadata": {},
   "outputs": [
    {
     "data": {
      "text/plain": [
       "[600, 75, 12, 10, 9, 8, 7, 6, 5, 4, 3, 1, 0, 600, 75, 12]"
      ]
     },
     "execution_count": 41,
     "metadata": {},
     "output_type": "execute_result"
    }
   ],
   "source": [
    "k1"
   ]
  },
  {
   "cell_type": "code",
   "execution_count": 51,
   "id": "d8831a96-76c4-4796-bd78-a41dba96b5bf",
   "metadata": {},
   "outputs": [],
   "source": [
    "# it removes the given element\n",
    "k1.remove(75)"
   ]
  },
  {
   "cell_type": "code",
   "execution_count": 52,
   "id": "42d2673f-bf6c-4fad-be36-a413dfa069d2",
   "metadata": {},
   "outputs": [
    {
     "data": {
      "text/plain": [
       "[600, 600, 75, 12, 12, 10, 9, 8, 7, 6, 5, 4, 3, 1, 0]"
      ]
     },
     "execution_count": 52,
     "metadata": {},
     "output_type": "execute_result"
    }
   ],
   "source": [
    "k1"
   ]
  },
  {
   "cell_type": "code",
   "execution_count": 53,
   "id": "f8271347-9c97-452d-9c23-8566fee1134a",
   "metadata": {},
   "outputs": [],
   "source": [
    "# it reverse the list\n",
    "k1.reverse()"
   ]
  },
  {
   "cell_type": "code",
   "execution_count": 54,
   "id": "f26a813f-aaf7-4d68-98c3-1f4058d90058",
   "metadata": {},
   "outputs": [
    {
     "data": {
      "text/plain": [
       "[0, 1, 3, 4, 5, 6, 7, 8, 9, 10, 12, 12, 75, 600, 600]"
      ]
     },
     "execution_count": 54,
     "metadata": {},
     "output_type": "execute_result"
    }
   ],
   "source": [
    "k1"
   ]
  },
  {
   "cell_type": "code",
   "execution_count": 55,
   "id": "ddcdb452-a6a9-4fcd-b9aa-4d2d10c491c3",
   "metadata": {},
   "outputs": [],
   "source": [
    "# it sort the list in ascending order\n",
    "k1.sort()"
   ]
  },
  {
   "cell_type": "code",
   "execution_count": 56,
   "id": "1da315cc-aab9-43ff-bafd-9ca116202a18",
   "metadata": {},
   "outputs": [
    {
     "data": {
      "text/plain": [
       "[0, 1, 3, 4, 5, 6, 7, 8, 9, 10, 12, 12, 75, 600, 600]"
      ]
     },
     "execution_count": 56,
     "metadata": {},
     "output_type": "execute_result"
    }
   ],
   "source": [
    "k1"
   ]
  },
  {
   "cell_type": "code",
   "execution_count": 57,
   "id": "057b3910-194b-46c7-a2c5-8b3818db2f44",
   "metadata": {},
   "outputs": [],
   "source": [
    "# it sort in descending order\n",
    "k1.sort(reverse=True)"
   ]
  },
  {
   "cell_type": "code",
   "execution_count": 58,
   "id": "f552185f-f906-4018-bf5f-69b04a02de24",
   "metadata": {},
   "outputs": [
    {
     "data": {
      "text/plain": [
       "[600, 600, 75, 12, 12, 10, 9, 8, 7, 6, 5, 4, 3, 1, 0]"
      ]
     },
     "execution_count": 58,
     "metadata": {},
     "output_type": "execute_result"
    }
   ],
   "source": [
    "k1"
   ]
  },
  {
   "cell_type": "code",
   "execution_count": 59,
   "id": "817e5708-d6f5-4f29-806a-a885e059d0b1",
   "metadata": {},
   "outputs": [
    {
     "data": {
      "text/plain": [
       "1"
      ]
     },
     "execution_count": 59,
     "metadata": {},
     "output_type": "execute_result"
    }
   ],
   "source": [
    "#print the index value of the given element\n",
    "k1.index(600,1)"
   ]
  },
  {
   "cell_type": "code",
   "execution_count": 60,
   "id": "e2464517-54d0-48ba-9e20-628ecf3a07ad",
   "metadata": {},
   "outputs": [],
   "source": [
    "#it remove all the elements from the list and make an empty list\n",
    "k1.clear()"
   ]
  },
  {
   "cell_type": "code",
   "execution_count": 61,
   "id": "12c2d662-6047-4e9b-a59a-6a983d41536f",
   "metadata": {},
   "outputs": [
    {
     "data": {
      "text/plain": [
       "[]"
      ]
     },
     "execution_count": 61,
     "metadata": {},
     "output_type": "execute_result"
    }
   ],
   "source": [
    "k1"
   ]
  },
  {
   "cell_type": "code",
   "execution_count": 62,
   "id": "45aef7bb-74b0-41bc-b12c-bd0dbba92bb4",
   "metadata": {},
   "outputs": [
    {
     "data": {
      "text/plain": [
       "[]"
      ]
     },
     "execution_count": 62,
     "metadata": {},
     "output_type": "execute_result"
    }
   ],
   "source": [
    "# to make a copy of the list\n",
    "k1.copy()"
   ]
  },
  {
   "cell_type": "code",
   "execution_count": 67,
   "id": "46a387af-792f-4b79-af3d-a400f9aa65a2",
   "metadata": {},
   "outputs": [],
   "source": [
    "q.insert(3,89)"
   ]
  },
  {
   "cell_type": "code",
   "execution_count": 68,
   "id": "ca379186-a40c-4c12-a4ac-86f66a9a73fa",
   "metadata": {},
   "outputs": [
    {
     "data": {
      "text/plain": [
       "[1, 1.5, 44, 89, 'string', False, [1, 2, 3, 'new', False]]"
      ]
     },
     "execution_count": 68,
     "metadata": {},
     "output_type": "execute_result"
    }
   ],
   "source": [
    "q"
   ]
  },
  {
   "cell_type": "code",
   "execution_count": 69,
   "id": "bfbd63b8-0a45-4d77-98a0-c9d701bfee99",
   "metadata": {},
   "outputs": [],
   "source": [
    "q[4] = False"
   ]
  },
  {
   "cell_type": "code",
   "execution_count": 70,
   "id": "6cc7bc7c-16f7-42ed-80b5-613a75ee8339",
   "metadata": {},
   "outputs": [
    {
     "data": {
      "text/plain": [
       "[1, 1.5, 44, 89, False, False, [1, 2, 3, 'new', False]]"
      ]
     },
     "execution_count": 70,
     "metadata": {},
     "output_type": "execute_result"
    }
   ],
   "source": [
    "q"
   ]
  },
  {
   "cell_type": "code",
   "execution_count": null,
   "id": "c46170e0-9bb1-43b9-93e7-92dc63cf8606",
   "metadata": {},
   "outputs": [],
   "source": [
    "# variable[start:stop:step]"
   ]
  },
  {
   "cell_type": "code",
   "execution_count": 71,
   "id": "32c1bd38-9c40-420b-a97e-a6439c0f6358",
   "metadata": {},
   "outputs": [
    {
     "data": {
      "text/plain": [
       "'new'"
      ]
     },
     "execution_count": 71,
     "metadata": {},
     "output_type": "execute_result"
    }
   ],
   "source": [
    "q[-1][3]"
   ]
  },
  {
   "cell_type": "code",
   "execution_count": 72,
   "id": "21367f3e-013b-4d7e-b7c8-934e19c07af4",
   "metadata": {},
   "outputs": [],
   "source": [
    "q[2]=5  # to replace"
   ]
  },
  {
   "cell_type": "code",
   "execution_count": 73,
   "id": "9dedcef6-a781-4ae9-bc7d-e0d7c1fb8eca",
   "metadata": {},
   "outputs": [
    {
     "data": {
      "text/plain": [
       "[1, 1.5, 5, 89, False, False, [1, 2, 3, 'new', False]]"
      ]
     },
     "execution_count": 73,
     "metadata": {},
     "output_type": "execute_result"
    }
   ],
   "source": [
    "q"
   ]
  },
  {
   "cell_type": "code",
   "execution_count": 77,
   "id": "c87f0765-5e6c-4f5f-884f-9328e87839e5",
   "metadata": {},
   "outputs": [],
   "source": [
    "r = [4,5,7,[4,2,0,3,5,\"todey\",4],478,\"string\"]"
   ]
  },
  {
   "cell_type": "code",
   "execution_count": 80,
   "id": "7121ef44-746b-46e2-a254-af83b22d908e",
   "metadata": {},
   "outputs": [],
   "source": [
    "r[3][-2]=r[3][-2].replace(\"e\",\"a\")"
   ]
  },
  {
   "cell_type": "code",
   "execution_count": 81,
   "id": "5d29a20d-0227-42a4-a3e4-57166d7204be",
   "metadata": {},
   "outputs": [
    {
     "data": {
      "text/plain": [
       "[4, 5, 7, [4, 2, 0, 3, 5, 'today', 4], 478, 'string']"
      ]
     },
     "execution_count": 81,
     "metadata": {},
     "output_type": "execute_result"
    }
   ],
   "source": [
    "r"
   ]
  },
  {
   "cell_type": "code",
   "execution_count": 82,
   "id": "a9846e3e-ebf3-4631-9b29-33d1057f509e",
   "metadata": {},
   "outputs": [],
   "source": [
    "r[3].remove(0)"
   ]
  },
  {
   "cell_type": "code",
   "execution_count": 83,
   "id": "82870000-aa71-49d4-b61e-86693860856d",
   "metadata": {},
   "outputs": [
    {
     "data": {
      "text/plain": [
       "[4, 5, 7, [4, 2, 3, 5, 'today', 4], 478, 'string']"
      ]
     },
     "execution_count": 83,
     "metadata": {},
     "output_type": "execute_result"
    }
   ],
   "source": [
    "r"
   ]
  },
  {
   "cell_type": "code",
   "execution_count": null,
   "id": "748ce4af-e1bd-46f0-9aea-c76d401d345e",
   "metadata": {},
   "outputs": [],
   "source": []
  },
  {
   "cell_type": "code",
   "execution_count": null,
   "id": "77306d1a-49f6-4ac0-bf1b-8ea31517091c",
   "metadata": {},
   "outputs": [],
   "source": []
  },
  {
   "cell_type": "code",
   "execution_count": null,
   "id": "fde00704-c509-43a1-85d9-327ea9546ffa",
   "metadata": {},
   "outputs": [],
   "source": []
  },
  {
   "cell_type": "code",
   "execution_count": null,
   "id": "56f9ff2c-3065-4f50-80d5-fa84d7035969",
   "metadata": {},
   "outputs": [],
   "source": []
  },
  {
   "cell_type": "code",
   "execution_count": null,
   "id": "25aa8a94-74b7-4792-af9f-5de323f2b087",
   "metadata": {},
   "outputs": [],
   "source": []
  }
 ],
 "metadata": {
  "kernelspec": {
   "display_name": "Python 3 (ipykernel)",
   "language": "python",
   "name": "python3"
  },
  "language_info": {
   "codemirror_mode": {
    "name": "ipython",
    "version": 3
   },
   "file_extension": ".py",
   "mimetype": "text/x-python",
   "name": "python",
   "nbconvert_exporter": "python",
   "pygments_lexer": "ipython3",
   "version": "3.12.4"
  }
 },
 "nbformat": 4,
 "nbformat_minor": 5
}
