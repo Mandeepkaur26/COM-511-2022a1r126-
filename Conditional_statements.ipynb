{
 "cells": [
  {
   "cell_type": "markdown",
   "id": "99da76ad-e1e3-49e1-be63-4e0ce8747e53",
   "metadata": {},
   "source": [
    "***SYNTAX***\n",
    "\n",
    "if condition1:\n",
    "    print(\"statement 1\")\n",
    "\n",
    "elif condition2:\n",
    "    print(\"statement 2\")\n",
    "\n",
    "elif condition3:\n",
    "    print(\"statement 3\")\n",
    "\n",
    "else:\n",
    "    print(\"last_statement\")"
   ]
  },
  {
   "cell_type": "code",
   "execution_count": 2,
   "id": "3bdb8b88-6856-4213-98b3-ca7ccf029660",
   "metadata": {},
   "outputs": [],
   "source": [
    "# CHECK IF X IS POSITIVE OR NEGATIVE"
   ]
  },
  {
   "cell_type": "code",
   "execution_count": 4,
   "id": "dd58c706-e81e-4244-bff6-2052fff702c1",
   "metadata": {},
   "outputs": [
    {
     "name": "stdin",
     "output_type": "stream",
     "text": [
      "enter the number  1\n"
     ]
    },
    {
     "name": "stdout",
     "output_type": "stream",
     "text": [
      "1.0 is positive\n"
     ]
    }
   ],
   "source": [
    "x = float(input(\"enter the number \"))\n",
    "if x>0:\n",
    "    print(x,\"is positive\")\n",
    "\n",
    "else:\n",
    "    print(x,\"is negative\")"
   ]
  },
  {
   "cell_type": "code",
   "execution_count": 6,
   "id": "e7b312e2-be4b-4ab6-a67c-120c9e14f000",
   "metadata": {},
   "outputs": [
    {
     "name": "stdin",
     "output_type": "stream",
     "text": [
      "enter the number 0\n"
     ]
    },
    {
     "name": "stdout",
     "output_type": "stream",
     "text": [
      "0.0 is zero\n"
     ]
    }
   ],
   "source": [
    "x = float(input(\"enter the number\"))\n",
    "if x>0:\n",
    "    print(x,\"is positive\")\n",
    "\n",
    "elif x==0:\n",
    "    print(x,\"is zero\")\n",
    "\n",
    "else:\n",
    "    print(x,\"is negative\")"
   ]
  },
  {
   "cell_type": "code",
   "execution_count": 8,
   "id": "018a6d53-6063-46e4-8ff8-d05cc02c0011",
   "metadata": {},
   "outputs": [
    {
     "name": "stdin",
     "output_type": "stream",
     "text": [
      "enter the number 29\n"
     ]
    },
    {
     "name": "stdout",
     "output_type": "stream",
     "text": [
      "29.0 is more than 20\n"
     ]
    }
   ],
   "source": [
    "# check if x is more than 20 or less than 20 or equal to 20\n",
    "x = float(input(\"enter the number\"))\n",
    "if x>20:\n",
    "    print(x,\"is more than 20\")\n",
    "    \n",
    "elif x==20:\n",
    "    print(x,\"is equal to 20\")\n",
    "\n",
    "else:\n",
    "    print(x,\"is less than 20\")"
   ]
  },
  {
   "cell_type": "code",
   "execution_count": 9,
   "id": "9a6ce60f-70c9-44b8-94c0-a50880f1cd64",
   "metadata": {},
   "outputs": [
    {
     "name": "stdin",
     "output_type": "stream",
     "text": [
      "enter the number 21\n"
     ]
    },
    {
     "name": "stdout",
     "output_type": "stream",
     "text": [
      "odd\n"
     ]
    }
   ],
   "source": [
    "# check if the x is even or odd\n",
    "\n",
    "x= float(input(\"enter the number\"))\n",
    "if x%2==0:\n",
    "    print(\"even\")\n",
    "\n",
    "else:\n",
    "    print(\"odd\")"
   ]
  },
  {
   "cell_type": "code",
   "execution_count": 11,
   "id": "e167a1ae-e488-42c5-ade6-35d14675f251",
   "metadata": {},
   "outputs": [
    {
     "name": "stdin",
     "output_type": "stream",
     "text": [
      "enter the number 6\n"
     ]
    },
    {
     "name": "stdout",
     "output_type": "stream",
     "text": [
      "odd\n"
     ]
    }
   ],
   "source": [
    "x= float(input(\"enter the number\"))\n",
    "if x%2!=0:\n",
    "    print(\"even\")\n",
    "\n",
    "else:\n",
    "    print(\"odd\")"
   ]
  },
  {
   "cell_type": "code",
   "execution_count": 12,
   "id": "e21c7ee8-4031-4721-b2c3-61f5f6913139",
   "metadata": {},
   "outputs": [],
   "source": [
    "# if x is odd calculate square\n",
    "# if x is even  calculate cube"
   ]
  },
  {
   "cell_type": "code",
   "execution_count": 13,
   "id": "a1c5fe6e-6cc2-480c-af69-8d860a475d38",
   "metadata": {},
   "outputs": [
    {
     "name": "stdin",
     "output_type": "stream",
     "text": [
      "enter the number 2\n"
     ]
    },
    {
     "name": "stdout",
     "output_type": "stream",
     "text": [
      "8.0 cube of x cause it is even \n"
     ]
    }
   ],
   "source": [
    "x= float(input(\"enter the number\"))\n",
    "if x%2==0:\n",
    "    print(x**3,\"cube of x cause it is even \")\n",
    "\n",
    "else:\n",
    "    print(x**2,\"cube of x cause it is odd \")"
   ]
  },
  {
   "cell_type": "code",
   "execution_count": 14,
   "id": "0652599a-b8b4-48ea-958c-814f3334b6f4",
   "metadata": {},
   "outputs": [
    {
     "name": "stdin",
     "output_type": "stream",
     "text": [
      "enter the number 22\n"
     ]
    },
    {
     "name": "stdout",
     "output_type": "stream",
     "text": [
      "10648.0 is the cube of22.0 cause it is even\n"
     ]
    }
   ],
   "source": [
    "x= float(input(\"enter the number\"))\n",
    "if x%2==0:\n",
    "    y = x**3\n",
    "    print(\"{} is the cube of{} cause it is even\".format(y,x))\n",
    "\n",
    "else:\n",
    "    y==x**2\n",
    "    print(\"{} is the cube of{} cause it is even\".format(y,x))"
   ]
  },
  {
   "cell_type": "code",
   "execution_count": null,
   "id": "b0237c4b-8b71-48f9-948d-1368552db092",
   "metadata": {},
   "outputs": [],
   "source": [
    "# if x is more than 100 and odd calculate square\n",
    "# if x is less than 100 and even calculate cube"
   ]
  },
  {
   "cell_type": "code",
   "execution_count": 18,
   "id": "bc56ee7b-f509-4528-9d95-117a8cdda31c",
   "metadata": {},
   "outputs": [
    {
     "name": "stdin",
     "output_type": "stream",
     "text": [
      "enter the number 11\n"
     ]
    },
    {
     "name": "stdout",
     "output_type": "stream",
     "text": [
      "121.0 square of x cause it is odd\n"
     ]
    }
   ],
   "source": [
    "x= float(input(\"enter the number\"))\n",
    "if x>100 and x%2!=0:\n",
    "    print(x**2,\"square of x cause it is odd\")\n",
    "elif x<100 and x%2==0:\n",
    "    print(x**3,\"cube of x cause it is odd\")\n",
    "    "
   ]
  },
  {
   "cell_type": "code",
   "execution_count": null,
   "id": "0366aac7-77df-42ca-9379-0628d471bf99",
   "metadata": {},
   "outputs": [],
   "source": [
    "# if x is more than 100 and odd calculate square\n",
    "# if x is more than 100 and even calculate square root\n",
    "# if x is less than 100 and odd calculate cube\n",
    "# if x is less than 100 and even calculate cube root\n",
    "# else : print x is equals to 100"
   ]
  },
  {
   "cell_type": "code",
   "execution_count": 8,
   "id": "63b45eaf-3211-4ebf-8032-0120729133d4",
   "metadata": {},
   "outputs": [
    {
     "name": "stdin",
     "output_type": "stream",
     "text": [
      "enter the number 100\n"
     ]
    },
    {
     "name": "stdout",
     "output_type": "stream",
     "text": [
      "100.0 is equal to 100\n"
     ]
    }
   ],
   "source": [
    "x= float(input(\"enter the number\"))\n",
    "if x>100 and x%2!=0:\n",
    "    print(x**2,\"square of x cause it is greater than 100 and odd\")\n",
    "\n",
    "elif x>100 and x%2==0:\n",
    "    print(x**(1/2),\"square root of x cause it is greater than 100 it is even\")\n",
    "\n",
    "elif x<100 and x%2!=0:\n",
    "    print(x**3,\"cube of x cause it is less than 100 it is odd\")\n",
    "elif x<100 and x%2==0:\n",
    "    print(x**(1/3),\"cube root of x cause it is less than 100 it is even\")\n",
    "\n",
    "else:\n",
    "    print(x,\"is equal to 100\")\n",
    "\n",
    "\n",
    "    \n"
   ]
  },
  {
   "cell_type": "code",
   "execution_count": null,
   "id": "c8f4654f-b7fa-4d9b-8406-74b41219fb3f",
   "metadata": {},
   "outputs": [],
   "source": [
    "# check the data type of x using condition statement"
   ]
  },
  {
   "cell_type": "code",
   "execution_count": 9,
   "id": "f0268b07-7c1b-41ef-9827-51bd40e28f7e",
   "metadata": {},
   "outputs": [
    {
     "name": "stdout",
     "output_type": "stream",
     "text": [
      "x is bool\n"
     ]
    }
   ],
   "source": [
    "x = True\n",
    "if type(x) == float:\n",
    "    print(\"x is float\")\n",
    "\n",
    "elif type(x)== int:\n",
    "    print(\"x is int\")\n",
    "\n",
    "elif type(x)== str:\n",
    "    print(\"x is string\")\n",
    "\n",
    "else :\n",
    "    print(\"x is bool\")"
   ]
  },
  {
   "cell_type": "code",
   "execution_count": 10,
   "id": "23ae8564-843e-4cb9-9a3e-8c2fc96e6d24",
   "metadata": {},
   "outputs": [
    {
     "name": "stdin",
     "output_type": "stream",
     "text": [
      "enter the string jkkk\n"
     ]
    },
    {
     "name": "stdout",
     "output_type": "stream",
     "text": [
      "does not starts with a\n"
     ]
    }
   ],
   "source": [
    "# check if the x is starts with a\n",
    "s = input(\"enter the string\")\n",
    "if s[0] == \"a\" :\n",
    "    print(\"string starts with a\")\n",
    "\n",
    "else :\n",
    "    print(\"does not starts with a\")"
   ]
  },
  {
   "cell_type": "code",
   "execution_count": 12,
   "id": "fc263e0b-03b4-465a-9946-c54bec8d62af",
   "metadata": {},
   "outputs": [
    {
     "name": "stdin",
     "output_type": "stream",
     "text": [
      "enter the string wtt\n"
     ]
    },
    {
     "name": "stdout",
     "output_type": "stream",
     "text": [
      "string ends with t\n"
     ]
    }
   ],
   "source": [
    "# check if the x ends with t\n",
    "s = input(\"enter the string\")\n",
    "if s[-1] == \"t\" :\n",
    "    print(\"string ends with t\")\n",
    "\n",
    "else :\n",
    "    print(\"does not ends with t\")"
   ]
  },
  {
   "cell_type": "code",
   "execution_count": null,
   "id": "c4275af1-a477-40a4-884b-37843084355b",
   "metadata": {},
   "outputs": [],
   "source": [
    "# check if the x starts with a and ends with a\n",
    "# check if the x starts with a and ends with r\n",
    "# check if the x does not start with a and ends with a\n"
   ]
  },
  {
   "cell_type": "code",
   "execution_count": 15,
   "id": "e5c64f96-2336-4e0c-8e3c-2cf86469562b",
   "metadata": {},
   "outputs": [
    {
     "name": "stdin",
     "output_type": "stream",
     "text": [
      "enter the string ant\n"
     ]
    },
    {
     "name": "stdout",
     "output_type": "stream",
     "text": [
      "string different\n"
     ]
    }
   ],
   "source": [
    "s = input(\"enter the string\")\n",
    "if s[0] == \"a\" and s[-1] == \"a\" :\n",
    "    print(\"string starts with a and ends with a\")\n",
    "\n",
    "elif s[0] == \"a\" and s[-1] ==\"r\" :\n",
    "    print(\"string starts with a and ends with r\")\n",
    "elif s[0] !=\"a\" and s[-1] !=\"r\" :\n",
    "    print(\"does not starts and end with r\")\n",
    "\n",
    "else :\n",
    "    print(\"string different\")\n",
    "    \n",
    "    "
   ]
  },
  {
   "cell_type": "code",
   "execution_count": 24,
   "id": "e0e8bf70-e9a8-4805-a6e3-14ffb3b007da",
   "metadata": {},
   "outputs": [
    {
     "name": "stdin",
     "output_type": "stream",
     "text": [
      "enter the string Simran\n"
     ]
    },
    {
     "name": "stdout",
     "output_type": "stream",
     "text": [
      "the ist letter is in uppercase\n"
     ]
    }
   ],
   "source": [
    "#check if the ist letter is upercase or lowercase\n",
    "s = input(\"enter the string\")\n",
    "if s[0]==s[0].upper() :\n",
    "    print(\"the ist letter is in uppercase\")\n",
    "\n",
    "else :\n",
    "    print(\"letter is in lowercase\")\n",
    "\n",
    "\n"
   ]
  },
  {
   "cell_type": "code",
   "execution_count": 25,
   "id": "6f5c7580-f5aa-4a94-91d2-cf1fce27772b",
   "metadata": {},
   "outputs": [
    {
     "name": "stdin",
     "output_type": "stream",
     "text": [
      "enter the string mannat\n"
     ]
    },
    {
     "name": "stdout",
     "output_type": "stream",
     "text": [
      "less than\n"
     ]
    }
   ],
   "source": [
    "# check if the length of string is more than 6 or not\n",
    "s = input(\"enter the string\")\n",
    "if len(s)<6 :\n",
    "    print(\"more than\")\n",
    "\n",
    "else :\n",
    "    print(\"less than\")"
   ]
  },
  {
   "cell_type": "code",
   "execution_count": 32,
   "id": "5f1179dd-bd61-4e23-9f95-cf7189c24423",
   "metadata": {},
   "outputs": [
    {
     "name": "stdin",
     "output_type": "stream",
     "text": [
      "enter the string sssssss\n"
     ]
    },
    {
     "name": "stdout",
     "output_type": "stream",
     "text": [
      "less than\n"
     ]
    }
   ],
   "source": [
    "# check if the count of spaces is more than 5 or not\n",
    "s = input(\"enter the string\")\n",
    "if( s.count(\" \")>5):\n",
    "    print(\"more than\")\n",
    "\n",
    "else:\n",
    "    print(\"less than\")"
   ]
  },
  {
   "cell_type": "markdown",
   "id": "0fde55ea-26fa-4bbd-bae7-ee294d10c759",
   "metadata": {},
   "source": [
    " ***NESTED IF*** "
   ]
  },
  {
   "cell_type": "code",
   "execution_count": 14,
   "id": "7d72032b-a9a8-4c76-bd4b-36d0a7eee3c7",
   "metadata": {},
   "outputs": [
    {
     "name": "stdin",
     "output_type": "stream",
     "text": [
      "age 12\n"
     ]
    },
    {
     "name": "stdout",
     "output_type": "stream",
     "text": [
      "teenager\n",
      "kid\n"
     ]
    }
   ],
   "source": [
    "age = int(input(\"age\"))\n",
    "if age<18:\n",
    "    print(\"teenager\")\n",
    "    if age==16:\n",
    "        print(\"minor\")\n",
    "    elif age==12:\n",
    "        print(\"kid\")"
   ]
  },
  {
   "cell_type": "code",
   "execution_count": 17,
   "id": "d0f4a94d-aa9a-415e-baf4-1ee91280561f",
   "metadata": {},
   "outputs": [
    {
     "name": "stdin",
     "output_type": "stream",
     "text": [
      "enter the name of the shape  cube\n",
      "enter what u want in cube  area\n"
     ]
    },
    {
     "name": "stdout",
     "output_type": "stream",
     "text": [
      "area of cube is ==> side**3 \n"
     ]
    }
   ],
   "source": [
    "name = input(\"enter the name of the shape \")\n",
    "if name.lower() == \"triangle\":\n",
    "    g = input(\"enter what u want to enter in triangle\")\n",
    "    if g.lower() == \"area\":\n",
    "        print(\"area of triangle is => 1/2*b*h \")\n",
    "    elif g.lower() == \"parameter\":\n",
    "        print(\"parameter of triangle is => A+B+C \")\n",
    "elif name.lower() == \"cube\":\n",
    "    g = input(\"enter what u want in cube \")\n",
    "    if g.lower()==\"area\":\n",
    "        print(\"area of cube is ==> side**3 \")\n",
    "    elif g.lower()==\"parameter\":\n",
    "        print(\"parameter of cube is 6a**2\")\n",
    "\n",
    "    "
   ]
  },
  {
   "cell_type": "code",
   "execution_count": 19,
   "id": "ce0fd318-1b82-4f4a-8d63-2f749f595d1d",
   "metadata": {},
   "outputs": [
    {
     "name": "stdin",
     "output_type": "stream",
     "text": [
      "enter the shape triangle\n",
      "enter what u want to enter in triangle area\n",
      "enter the height  4\n",
      "enter the breadth  3\n"
     ]
    },
    {
     "name": "stdout",
     "output_type": "stream",
     "text": [
      "6.0 is the area of triangle \n"
     ]
    }
   ],
   "source": [
    "name = input(\"enter the shape\")\n",
    "if name.lower() == \"triangle\":\n",
    "    g = input(\"enter what u want to enter in triangle\")\n",
    "    if g.lower() == \"area\":\n",
    "        h = float(input(\"enter the height \"))\n",
    "        b = float(input(\"enter the breadth \"))\n",
    "        area = (1/2)*b*h\n",
    "        print(area,\"is the area of triangle \")\n",
    "    elif g.lower() ==\"parameter\":\n",
    "        a= float(input(\"enter the a \"))\n",
    "        b= float(input(\"enter the b \"))\n",
    "        c= float(input(\"enter the c \"))\n",
    "        parameter = a+b+c\n",
    "        print(parameter,\"is the parameter of triangle\")"
   ]
  },
  {
   "cell_type": "code",
   "execution_count": null,
   "id": "5f475398-7551-4b26-8890-85ffd9e69ba1",
   "metadata": {},
   "outputs": [],
   "source": []
  },
  {
   "cell_type": "code",
   "execution_count": null,
   "id": "2e435659-0dde-4c7e-bf70-1f4dd257494f",
   "metadata": {},
   "outputs": [],
   "source": []
  }
 ],
 "metadata": {
  "kernelspec": {
   "display_name": "Python 3 (ipykernel)",
   "language": "python",
   "name": "python3"
  },
  "language_info": {
   "codemirror_mode": {
    "name": "ipython",
    "version": 3
   },
   "file_extension": ".py",
   "mimetype": "text/x-python",
   "name": "python",
   "nbconvert_exporter": "python",
   "pygments_lexer": "ipython3",
   "version": "3.12.4"
  }
 },
 "nbformat": 4,
 "nbformat_minor": 5
}
