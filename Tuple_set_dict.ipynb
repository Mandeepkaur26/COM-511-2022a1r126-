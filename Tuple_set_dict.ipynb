{
 "cells": [
  {
   "cell_type": "markdown",
   "id": "bb16243e-6c10-4c8a-8228-e45bab4a0761",
   "metadata": {},
   "source": [
    "***TUPLE***\n",
    "\n",
    "It is an ordered collection of elements using () \n",
    "\n",
    "it is not mutuable"
   ]
  },
  {
   "cell_type": "code",
   "execution_count": 1,
   "id": "cb4de06e-f7bb-494d-8294-b478e2abc8c7",
   "metadata": {},
   "outputs": [],
   "source": [
    "t = ()"
   ]
  },
  {
   "cell_type": "code",
   "execution_count": 2,
   "id": "a16bc95b-5d63-4067-95c5-3f364a36f9e2",
   "metadata": {},
   "outputs": [
    {
     "data": {
      "text/plain": [
       "tuple"
      ]
     },
     "execution_count": 2,
     "metadata": {},
     "output_type": "execute_result"
    }
   ],
   "source": [
    "type(t)"
   ]
  },
  {
   "cell_type": "code",
   "execution_count": 3,
   "id": "bfdb7db4-7959-46a7-b640-8cb29ce0eda0",
   "metadata": {},
   "outputs": [],
   "source": [
    "e = (1,2,3,4,5,\"string\",True)"
   ]
  },
  {
   "cell_type": "code",
   "execution_count": 4,
   "id": "a8900a4e-aa5b-4611-b581-a0a0e05ca106",
   "metadata": {},
   "outputs": [
    {
     "data": {
      "text/plain": [
       "(1, 2, 3, 4, 5, 'string', True)"
      ]
     },
     "execution_count": 4,
     "metadata": {},
     "output_type": "execute_result"
    }
   ],
   "source": [
    "e"
   ]
  },
  {
   "cell_type": "code",
   "execution_count": 5,
   "id": "8fbf1e7f-61e8-4c82-9ba0-56fa6ac91cc7",
   "metadata": {},
   "outputs": [
    {
     "data": {
      "text/plain": [
       "1"
      ]
     },
     "execution_count": 5,
     "metadata": {},
     "output_type": "execute_result"
    }
   ],
   "source": [
    "#count the given element\n",
    "e.count(5)\n"
   ]
  },
  {
   "cell_type": "code",
   "execution_count": 6,
   "id": "e6623df2-b27b-4e20-8bea-ec92282e8481",
   "metadata": {},
   "outputs": [
    {
     "data": {
      "text/plain": [
       "5"
      ]
     },
     "execution_count": 6,
     "metadata": {},
     "output_type": "execute_result"
    }
   ],
   "source": [
    "#print the index of the given element\n",
    "e.index(\"string\")"
   ]
  },
  {
   "cell_type": "markdown",
   "id": "0335975c-73fd-4fb1-9d78-644f81b7b394",
   "metadata": {},
   "source": [
    "list and  tuple\n",
    "\n",
    "[]         ()\n",
    "\n",
    "mutable   immutable"
   ]
  },
  {
   "cell_type": "markdown",
   "id": "a0331a97-f633-41c0-9a90-19af1d5c767c",
   "metadata": {},
   "source": [
    "### SET\n",
    "\n",
    "It is an unordered collection of unique elements\n",
    "\n",
    "it does not contain any duplicate element\n",
    "\n",
    "There is no indexing and slicing in the set"
   ]
  },
  {
   "cell_type": "code",
   "execution_count": 9,
   "id": "148fcc83-6d45-45f6-9375-101f9c56cab5",
   "metadata": {},
   "outputs": [],
   "source": [
    "s = set()"
   ]
  },
  {
   "cell_type": "code",
   "execution_count": 10,
   "id": "bc0f83b6-40f9-48d5-9d8f-b4106b2e92f7",
   "metadata": {},
   "outputs": [
    {
     "data": {
      "text/plain": [
       "set"
      ]
     },
     "execution_count": 10,
     "metadata": {},
     "output_type": "execute_result"
    }
   ],
   "source": [
    "type(s)"
   ]
  },
  {
   "cell_type": "code",
   "execution_count": 11,
   "id": "231e7ae1-342b-4b8b-888f-5d8814e4abde",
   "metadata": {},
   "outputs": [],
   "source": [
    "s = {4,8,9,9,6,3,5,10}"
   ]
  },
  {
   "cell_type": "code",
   "execution_count": 12,
   "id": "94c523e2-5b45-4506-83a1-4e0267be249f",
   "metadata": {},
   "outputs": [
    {
     "data": {
      "text/plain": [
       "{3, 4, 5, 6, 8, 9, 10}"
      ]
     },
     "execution_count": 12,
     "metadata": {},
     "output_type": "execute_result"
    }
   ],
   "source": [
    "s"
   ]
  },
  {
   "cell_type": "code",
   "execution_count": 15,
   "id": "7e05acbf-cc09-44a7-9404-3498313da569",
   "metadata": {},
   "outputs": [
    {
     "data": {
      "text/plain": [
       "5"
      ]
     },
     "execution_count": 15,
     "metadata": {},
     "output_type": "execute_result"
    }
   ],
   "source": [
    "s.pop()"
   ]
  },
  {
   "cell_type": "code",
   "execution_count": 16,
   "id": "617e1327-7bae-47ce-bde1-df3994af8895",
   "metadata": {},
   "outputs": [
    {
     "data": {
      "text/plain": [
       "{6, 8, 9, 10}"
      ]
     },
     "execution_count": 16,
     "metadata": {},
     "output_type": "execute_result"
    }
   ],
   "source": [
    "s"
   ]
  },
  {
   "cell_type": "markdown",
   "id": "d7aed75d-dd22-402e-b6bb-6caec5ac886a",
   "metadata": {},
   "source": [
    "s.difference() : it will print the unique element of the left set\n",
    "\n",
    "s.intersection :  it print common elements from the set\n",
    "\n",
    "s.pop() :   it will remove a random element from the set\n",
    "\n",
    "s.symmetric_difference() : it print unique elements from the set\n",
    "\n",
    "union : add the new set in the old set in the end of old set\n",
    "\n",
    "update : add and save the new set in old one\n",
    "\n",
    "discard :\n",
    "\n",
    "remove :\n",
    "\n"
   ]
  },
  {
   "cell_type": "code",
   "execution_count": 33,
   "id": "576586ea-22bc-428d-b824-a5542f44bdd0",
   "metadata": {},
   "outputs": [],
   "source": [
    "q1 = {1,2,3,4,5,6,7,500,600}\n",
    "q2 = {11,22,33,44,4,5,6,9,500}"
   ]
  },
  {
   "cell_type": "code",
   "execution_count": 34,
   "id": "459b0b61-d8e5-455b-a82c-6d3fef03c30f",
   "metadata": {},
   "outputs": [
    {
     "data": {
      "text/plain": [
       "{1, 2, 3, 7, 600}"
      ]
     },
     "execution_count": 34,
     "metadata": {},
     "output_type": "execute_result"
    }
   ],
   "source": [
    "q1.difference(q2)\n"
   ]
  },
  {
   "cell_type": "code",
   "execution_count": 35,
   "id": "597ce37d-1d9a-469b-8925-5582c35f1c84",
   "metadata": {},
   "outputs": [
    {
     "data": {
      "text/plain": [
       "{9, 11, 22, 33, 44}"
      ]
     },
     "execution_count": 35,
     "metadata": {},
     "output_type": "execute_result"
    }
   ],
   "source": [
    "q2.difference(q1)"
   ]
  },
  {
   "cell_type": "code",
   "execution_count": 36,
   "id": "9ccae420-b149-4785-8b70-85efaa46ef40",
   "metadata": {},
   "outputs": [
    {
     "data": {
      "text/plain": [
       "{4, 5, 6, 500}"
      ]
     },
     "execution_count": 36,
     "metadata": {},
     "output_type": "execute_result"
    }
   ],
   "source": [
    "q1.intersection(q2)"
   ]
  },
  {
   "cell_type": "code",
   "execution_count": 37,
   "id": "e97fb03a-9ccd-4ffe-bb57-15f4fc0810ef",
   "metadata": {},
   "outputs": [
    {
     "data": {
      "text/plain": [
       "{1, 2, 3, 7, 9, 11, 22, 33, 44, 600}"
      ]
     },
     "execution_count": 37,
     "metadata": {},
     "output_type": "execute_result"
    }
   ],
   "source": [
    "q1.symmetric_difference(q2)"
   ]
  },
  {
   "cell_type": "code",
   "execution_count": 38,
   "id": "629dbbfd-1d70-4f85-acfe-8558cae0543d",
   "metadata": {},
   "outputs": [
    {
     "data": {
      "text/plain": [
       "{1, 2, 3, 4, 5, 6, 7, 9, 11, 22, 33, 44, 500, 600}"
      ]
     },
     "execution_count": 38,
     "metadata": {},
     "output_type": "execute_result"
    }
   ],
   "source": [
    "q1.union(q2)"
   ]
  },
  {
   "cell_type": "code",
   "execution_count": 39,
   "id": "1f809311-39d6-43c0-970f-9805003e23f7",
   "metadata": {},
   "outputs": [
    {
     "data": {
      "text/plain": [
       "{1, 2, 3, 4, 5, 6, 7, 500, 600}"
      ]
     },
     "execution_count": 39,
     "metadata": {},
     "output_type": "execute_result"
    }
   ],
   "source": [
    "q1"
   ]
  },
  {
   "cell_type": "code",
   "execution_count": 40,
   "id": "a5175860-a50d-4f6d-a85a-61a85710efea",
   "metadata": {},
   "outputs": [],
   "source": [
    "q1.discard(5)"
   ]
  },
  {
   "cell_type": "code",
   "execution_count": 41,
   "id": "52917311-5d6f-4a34-b602-2cd75e2bbb01",
   "metadata": {},
   "outputs": [
    {
     "data": {
      "text/plain": [
       "{1, 2, 3, 4, 6, 7, 500, 600}"
      ]
     },
     "execution_count": 41,
     "metadata": {},
     "output_type": "execute_result"
    }
   ],
   "source": [
    "q1"
   ]
  },
  {
   "cell_type": "code",
   "execution_count": 42,
   "id": "3e245487-a473-40a3-a2a7-01f0c8892b8e",
   "metadata": {},
   "outputs": [],
   "source": [
    "q1.update(q2)"
   ]
  },
  {
   "cell_type": "code",
   "execution_count": 43,
   "id": "2b8f02f7-4742-4e98-bcb5-1f81da6a8f2c",
   "metadata": {},
   "outputs": [
    {
     "data": {
      "text/plain": [
       "{1, 2, 3, 4, 5, 6, 7, 9, 11, 22, 33, 44, 500, 600}"
      ]
     },
     "execution_count": 43,
     "metadata": {},
     "output_type": "execute_result"
    }
   ],
   "source": [
    "q1"
   ]
  },
  {
   "cell_type": "markdown",
   "id": "90e654bb-52d9-4187-a66b-70e69f98ed29",
   "metadata": {},
   "source": [
    "### DICT\n",
    "\n",
    "It is a pair of keys and values"
   ]
  },
  {
   "cell_type": "code",
   "execution_count": 45,
   "id": "47312267-c6a4-41fb-adbc-aa2d4ad5f4d1",
   "metadata": {},
   "outputs": [],
   "source": [
    "s = {}"
   ]
  },
  {
   "cell_type": "code",
   "execution_count": 46,
   "id": "e2c5b514-510f-45e8-9e47-4ac7ed4ac784",
   "metadata": {},
   "outputs": [
    {
     "data": {
      "text/plain": [
       "dict"
      ]
     },
     "execution_count": 46,
     "metadata": {},
     "output_type": "execute_result"
    }
   ],
   "source": [
    "type(s)"
   ]
  },
  {
   "cell_type": "code",
   "execution_count": 47,
   "id": "5255df9d-f59c-4448-84c9-88315d9e13ac",
   "metadata": {},
   "outputs": [],
   "source": [
    "d = {\"name\":[\"a\",\"b\",\"c\"],\n",
    "     \"age\":[22,25,26]}"
   ]
  },
  {
   "cell_type": "code",
   "execution_count": 48,
   "id": "7b079a03-7fb7-4156-bafa-ebba235e520b",
   "metadata": {},
   "outputs": [
    {
     "data": {
      "text/plain": [
       "{'name': ['a', 'b', 'c'], 'age': [22, 25, 26]}"
      ]
     },
     "execution_count": 48,
     "metadata": {},
     "output_type": "execute_result"
    }
   ],
   "source": [
    "d"
   ]
  },
  {
   "cell_type": "code",
   "execution_count": 49,
   "id": "467f02e8-28a2-4ab2-91c3-3ccacba5a9e8",
   "metadata": {},
   "outputs": [],
   "source": [
    "d1 = {\"name\":(\"a\",\"b\",\"c\"),\n",
    "     \"age\":(22,25,26)}"
   ]
  },
  {
   "cell_type": "code",
   "execution_count": 50,
   "id": "b3ab074b-3386-4b10-becb-b68924df2f04",
   "metadata": {},
   "outputs": [
    {
     "data": {
      "text/plain": [
       "{'name': ('a', 'b', 'c'), 'age': (22, 25, 26)}"
      ]
     },
     "execution_count": 50,
     "metadata": {},
     "output_type": "execute_result"
    }
   ],
   "source": [
    "d1"
   ]
  },
  {
   "cell_type": "code",
   "execution_count": 51,
   "id": "0d64992c-f350-48ca-9ac0-0a3ed7bb0852",
   "metadata": {},
   "outputs": [
    {
     "data": {
      "text/plain": [
       "dict_keys(['name', 'age'])"
      ]
     },
     "execution_count": 51,
     "metadata": {},
     "output_type": "execute_result"
    }
   ],
   "source": [
    "# print the keys of the dict\n",
    "d.keys()"
   ]
  },
  {
   "cell_type": "code",
   "execution_count": 52,
   "id": "0da03996-1237-4791-8099-bf0dc16c226b",
   "metadata": {},
   "outputs": [
    {
     "data": {
      "text/plain": [
       "dict_values([['a', 'b', 'c'], [22, 25, 26]])"
      ]
     },
     "execution_count": 52,
     "metadata": {},
     "output_type": "execute_result"
    }
   ],
   "source": [
    "#print the values of the dict\n",
    "d.values()"
   ]
  },
  {
   "cell_type": "code",
   "execution_count": 53,
   "id": "c5ddc02f-9d21-48a4-a336-56228385facc",
   "metadata": {},
   "outputs": [
    {
     "data": {
      "text/plain": [
       "['a', 'b', 'c']"
      ]
     },
     "execution_count": 53,
     "metadata": {},
     "output_type": "execute_result"
    }
   ],
   "source": [
    "# to print the values of a particular key\n",
    "d[\"name\"]"
   ]
  },
  {
   "cell_type": "code",
   "execution_count": 54,
   "id": "5afe55a0-4262-4d83-919d-1ea66a712b2d",
   "metadata": {},
   "outputs": [
    {
     "data": {
      "text/plain": [
       "'a'"
      ]
     },
     "execution_count": 54,
     "metadata": {},
     "output_type": "execute_result"
    }
   ],
   "source": [
    "d[\"name\"][0]"
   ]
  },
  {
   "cell_type": "code",
   "execution_count": null,
   "id": "211280f4-ecf5-4b77-9b11-24067537f82a",
   "metadata": {},
   "outputs": [],
   "source": [
    "d[\"name\"].append(\"d\")"
   ]
  },
  {
   "cell_type": "code",
   "execution_count": 3,
   "id": "cd68e3a4-1516-4989-a74a-5059a8707006",
   "metadata": {},
   "outputs": [],
   "source": [
    "w = {\"id\": [1001,1002,1003,1004,1005],\n",
    "     \"location\":[\"Delhi\",\"Noida\",\"jaipur\",\"Pune\",\"Mumbai\"],\n",
    "     \"job\":[\"DS\",\"analyst\",\"HR\",\"Manager\"]}"
   ]
  },
  {
   "cell_type": "code",
   "execution_count": 4,
   "id": "ce48f670-9b3c-4b92-8f1d-ba3c47e230c3",
   "metadata": {},
   "outputs": [
    {
     "data": {
      "text/plain": [
       "{'id': [1001, 1002, 1003, 1004, 1005],\n",
       " 'location': ['Delhi', 'Noida', 'jaipur', 'Pune', 'Mumbai'],\n",
       " 'job': ['DS', 'analyst', 'HR', 'Manager']}"
      ]
     },
     "execution_count": 4,
     "metadata": {},
     "output_type": "execute_result"
    }
   ],
   "source": [
    "w"
   ]
  },
  {
   "cell_type": "code",
   "execution_count": 10,
   "id": "25a37bf8-2c37-41f0-89d4-5b487ceaa4ad",
   "metadata": {},
   "outputs": [],
   "source": [
    "w[\"location\"][1:3]=[\"jammu\",\"kashmir\"]"
   ]
  },
  {
   "cell_type": "code",
   "execution_count": 12,
   "id": "9b2a8154-a431-4ad8-b76d-6c3e91a6985d",
   "metadata": {},
   "outputs": [
    {
     "data": {
      "text/plain": [
       "['Delhi', 'jammu', 'kashmir', 'Pune', 'Mumbai']"
      ]
     },
     "execution_count": 12,
     "metadata": {},
     "output_type": "execute_result"
    }
   ],
   "source": [
    "w[\"location\"]"
   ]
  },
  {
   "cell_type": "code",
   "execution_count": null,
   "id": "00dcaa09-61ca-48c0-972a-aed6e7cf4e08",
   "metadata": {},
   "outputs": [],
   "source": []
  },
  {
   "cell_type": "code",
   "execution_count": null,
   "id": "55be8d15-386c-4eb7-95da-9bb2eeb625cd",
   "metadata": {},
   "outputs": [],
   "source": []
  },
  {
   "cell_type": "code",
   "execution_count": 25,
   "id": "45dc15cf-4bce-4cd6-a835-54f4d51cdab1",
   "metadata": {},
   "outputs": [],
   "source": [
    "r = {\"ID\":[1441,1442,1443,1445],\n",
    "     \"JOB\":[\"HR\",\"Manager\",\"CA\",\"CS\"]}"
   ]
  },
  {
   "cell_type": "code",
   "execution_count": 19,
   "id": "8e3aee47-2dc0-43ea-a3e7-e722ff1c1ff4",
   "metadata": {},
   "outputs": [
    {
     "data": {
      "text/plain": [
       "{'ID': [1441, 1442, 1443, 1445], 'JOB': ['HR', 'Manager', 'CA', 'CS']}"
      ]
     },
     "execution_count": 19,
     "metadata": {},
     "output_type": "execute_result"
    }
   ],
   "source": [
    "r"
   ]
  },
  {
   "cell_type": "code",
   "execution_count": 20,
   "id": "d4a9575b-da71-4bdf-b0ad-6290b729a5d9",
   "metadata": {},
   "outputs": [
    {
     "data": {
      "text/plain": [
       "dict_keys(['ID', 'JOB'])"
      ]
     },
     "execution_count": 20,
     "metadata": {},
     "output_type": "execute_result"
    }
   ],
   "source": [
    "r.keys()"
   ]
  },
  {
   "cell_type": "code",
   "execution_count": 21,
   "id": "6d2c7518-6b2e-4984-bfc4-c3d96707716e",
   "metadata": {},
   "outputs": [
    {
     "data": {
      "text/plain": [
       "dict_values([[1441, 1442, 1443, 1445], ['HR', 'Manager', 'CA', 'CS']])"
      ]
     },
     "execution_count": 21,
     "metadata": {},
     "output_type": "execute_result"
    }
   ],
   "source": [
    "r.values()"
   ]
  },
  {
   "cell_type": "code",
   "execution_count": 24,
   "id": "27305e87-f386-48bc-85d0-8d8ec64fbd08",
   "metadata": {},
   "outputs": [
    {
     "data": {
      "text/plain": [
       "['ID']"
      ]
     },
     "execution_count": 24,
     "metadata": {},
     "output_type": "execute_result"
    }
   ],
   "source": [
    "r"
   ]
  },
  {
   "cell_type": "code",
   "execution_count": 22,
   "id": "bdbb53b4-fe36-4d79-8197-3167f2262d47",
   "metadata": {},
   "outputs": [],
   "source": [
    "r[\"ID\"]"
   ]
  },
  {
   "cell_type": "code",
   "execution_count": 26,
   "id": "e5448ba2-0511-4e25-af4e-9d720b3917ae",
   "metadata": {},
   "outputs": [
    {
     "data": {
      "text/plain": [
       "list"
      ]
     },
     "execution_count": 26,
     "metadata": {},
     "output_type": "execute_result"
    }
   ],
   "source": [
    "type(r[\"ID\"])"
   ]
  },
  {
   "cell_type": "code",
   "execution_count": 27,
   "id": "f7c0b4a0-86b9-4013-988a-e82c2f6e61a8",
   "metadata": {},
   "outputs": [],
   "source": [
    "# ADD A VALUE IN THE KEY\n",
    "# 1. at the end\n",
    "# 2. any particular index value\n",
    "# 3. replace"
   ]
  },
  {
   "cell_type": "code",
   "execution_count": 28,
   "id": "e31be83c-127b-4f4d-9e28-c2b04ca06bc5",
   "metadata": {},
   "outputs": [],
   "source": [
    "# at the end\n",
    "r[\"ID\"].append(1446)\n"
   ]
  },
  {
   "cell_type": "code",
   "execution_count": 29,
   "id": "2cc8cb33-73f7-4ab2-8c5c-3ddcced127c7",
   "metadata": {},
   "outputs": [
    {
     "data": {
      "text/plain": [
       "{'ID': [1441, 1442, 1443, 1445, 1446], 'JOB': ['HR', 'Manager', 'CA', 'CS']}"
      ]
     },
     "execution_count": 29,
     "metadata": {},
     "output_type": "execute_result"
    }
   ],
   "source": [
    "r"
   ]
  },
  {
   "cell_type": "code",
   "execution_count": 30,
   "id": "77e53e16-3eeb-497a-9e46-23e54e253da5",
   "metadata": {},
   "outputs": [],
   "source": [
    "# any particular index value\n",
    "r[\"ID\"].insert(0,1440)"
   ]
  },
  {
   "cell_type": "code",
   "execution_count": 31,
   "id": "e52dd87d-1f76-49bc-b5df-2a965e35a26d",
   "metadata": {},
   "outputs": [
    {
     "data": {
      "text/plain": [
       "{'ID': [1440, 1441, 1442, 1443, 1445, 1446],\n",
       " 'JOB': ['HR', 'Manager', 'CA', 'CS']}"
      ]
     },
     "execution_count": 31,
     "metadata": {},
     "output_type": "execute_result"
    }
   ],
   "source": [
    "r"
   ]
  },
  {
   "cell_type": "code",
   "execution_count": 35,
   "id": "3acaba83-364e-4239-8c91-aa31198bd04a",
   "metadata": {},
   "outputs": [],
   "source": [
    "#replace\n",
    "r[\"ID\"][0]=1000"
   ]
  },
  {
   "cell_type": "code",
   "execution_count": 36,
   "id": "a9e7cf85-bfb3-486d-ae58-7fa2da4c4da3",
   "metadata": {},
   "outputs": [
    {
     "data": {
      "text/plain": [
       "{'ID': [1000, 1441, 1442, 1443, 1445, 1446],\n",
       " 'JOB': ['HR', 'Manager', 'CA', 'CS']}"
      ]
     },
     "execution_count": 36,
     "metadata": {},
     "output_type": "execute_result"
    }
   ],
   "source": [
    "r"
   ]
  },
  {
   "cell_type": "code",
   "execution_count": null,
   "id": "b8de236c-77bd-4bfd-8ea7-2e1a9004a030",
   "metadata": {},
   "outputs": [],
   "source": [
    "# if we want to delete any value\n",
    "# 1 from last\n",
    "# 2 ANY INDEX VALUE\n",
    "# value"
   ]
  },
  {
   "cell_type": "code",
   "execution_count": 37,
   "id": "9a803b46-7990-4d7b-94ec-3aa9f74e560c",
   "metadata": {},
   "outputs": [
    {
     "data": {
      "text/plain": [
       "1446"
      ]
     },
     "execution_count": 37,
     "metadata": {},
     "output_type": "execute_result"
    }
   ],
   "source": [
    "# 1 from last\n",
    "r[\"ID\"].pop()"
   ]
  },
  {
   "cell_type": "code",
   "execution_count": 38,
   "id": "1970d853-eee3-4162-a4aa-a91f43d6f446",
   "metadata": {},
   "outputs": [
    {
     "data": {
      "text/plain": [
       "{'ID': [1000, 1441, 1442, 1443, 1445], 'JOB': ['HR', 'Manager', 'CA', 'CS']}"
      ]
     },
     "execution_count": 38,
     "metadata": {},
     "output_type": "execute_result"
    }
   ],
   "source": [
    "r"
   ]
  },
  {
   "cell_type": "code",
   "execution_count": 41,
   "id": "05806ae1-9d21-4e1b-bbbe-a9573535848b",
   "metadata": {},
   "outputs": [
    {
     "data": {
      "text/plain": [
       "2"
      ]
     },
     "execution_count": 41,
     "metadata": {},
     "output_type": "execute_result"
    }
   ],
   "source": [
    "round(len(r[\"ID\"])/2)"
   ]
  },
  {
   "cell_type": "code",
   "execution_count": 43,
   "id": "e3d06fe0-d4b7-406a-bd3c-98fd7fff5fb7",
   "metadata": {},
   "outputs": [
    {
     "data": {
      "text/plain": [
       "1000"
      ]
     },
     "execution_count": 43,
     "metadata": {},
     "output_type": "execute_result"
    }
   ],
   "source": [
    "r[\"ID\"].pop(0)"
   ]
  },
  {
   "cell_type": "code",
   "execution_count": 44,
   "id": "4cbee268-2b40-4040-a5e3-dc1598cd9df6",
   "metadata": {},
   "outputs": [
    {
     "data": {
      "text/plain": [
       "{'ID': [1441, 1442, 1443, 1445], 'JOB': ['HR', 'Manager', 'CA', 'CS']}"
      ]
     },
     "execution_count": 44,
     "metadata": {},
     "output_type": "execute_result"
    }
   ],
   "source": [
    "r"
   ]
  },
  {
   "cell_type": "code",
   "execution_count": 45,
   "id": "ea0f3ef5-25ec-42ec-87c1-1014145d2691",
   "metadata": {},
   "outputs": [],
   "source": [
    "r[\"ID\"].remove(1443)"
   ]
  },
  {
   "cell_type": "code",
   "execution_count": 46,
   "id": "25113688-4f59-42f4-8e8f-26b15e1b8b36",
   "metadata": {},
   "outputs": [
    {
     "data": {
      "text/plain": [
       "{'ID': [1441, 1442, 1445], 'JOB': ['HR', 'Manager', 'CA', 'CS']}"
      ]
     },
     "execution_count": 46,
     "metadata": {},
     "output_type": "execute_result"
    }
   ],
   "source": [
    "r"
   ]
  },
  {
   "cell_type": "code",
   "execution_count": null,
   "id": "bc28426c-5334-41f4-9050-dd31761eabe0",
   "metadata": {},
   "outputs": [],
   "source": []
  },
  {
   "cell_type": "code",
   "execution_count": null,
   "id": "73c99335-6175-4902-bbbd-b854d79bfada",
   "metadata": {},
   "outputs": [],
   "source": []
  },
  {
   "cell_type": "code",
   "execution_count": null,
   "id": "c90bb8f0-8262-414a-8eee-5396528f28c3",
   "metadata": {},
   "outputs": [],
   "source": []
  },
  {
   "cell_type": "code",
   "execution_count": null,
   "id": "5f619caa-40bd-4ad7-a18d-37201a104d0d",
   "metadata": {},
   "outputs": [],
   "source": []
  },
  {
   "cell_type": "code",
   "execution_count": null,
   "id": "9c662063-0918-4860-84fb-2d1105db9105",
   "metadata": {},
   "outputs": [],
   "source": []
  },
  {
   "cell_type": "code",
   "execution_count": null,
   "id": "cb051b9e-fbc9-4fac-b6f6-3099b2264386",
   "metadata": {},
   "outputs": [],
   "source": []
  },
  {
   "cell_type": "code",
   "execution_count": null,
   "id": "9a11afb4-2243-4b84-8ea9-d2393d247c2d",
   "metadata": {},
   "outputs": [],
   "source": []
  },
  {
   "cell_type": "code",
   "execution_count": null,
   "id": "87de1d40-c339-4e07-92ea-929dcbb30c38",
   "metadata": {},
   "outputs": [],
   "source": []
  },
  {
   "cell_type": "code",
   "execution_count": null,
   "id": "d33110fc-e57b-4c8c-afdb-762585419ea5",
   "metadata": {},
   "outputs": [],
   "source": []
  }
 ],
 "metadata": {
  "kernelspec": {
   "display_name": "Python 3 (ipykernel)",
   "language": "python",
   "name": "python3"
  },
  "language_info": {
   "codemirror_mode": {
    "name": "ipython",
    "version": 3
   },
   "file_extension": ".py",
   "mimetype": "text/x-python",
   "name": "python",
   "nbconvert_exporter": "python",
   "pygments_lexer": "ipython3",
   "version": "3.12.4"
  }
 },
 "nbformat": 4,
 "nbformat_minor": 5
}
