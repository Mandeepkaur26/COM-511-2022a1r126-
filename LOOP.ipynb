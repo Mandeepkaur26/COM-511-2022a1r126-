{
 "cells": [
  {
   "cell_type": "markdown",
   "id": "58cf6fdf-bf52-47d2-ae99-810112405109",
   "metadata": {},
   "source": [
    "***LOOP***"
   ]
  },
  {
   "cell_type": "code",
   "execution_count": null,
   "id": "07a8de4f-0e21-426b-9e6d-d56b53892512",
   "metadata": {},
   "outputs": [],
   "source": [
    "l = [1,2,3,4,5,6]\n",
    "#for variable in l:"
   ]
  },
  {
   "cell_type": "code",
   "execution_count": 1,
   "id": "dbe8992d-d65f-4e0b-bcd2-12f48a777fec",
   "metadata": {},
   "outputs": [
    {
     "name": "stdout",
     "output_type": "stream",
     "text": [
      "1\n",
      "2\n",
      "3\n",
      "4\n",
      "5\n",
      "6\n"
     ]
    }
   ],
   "source": [
    "l = [1,2,3,4,5,6]\n",
    "for i in l:\n",
    "    print(i)"
   ]
  },
  {
   "cell_type": "code",
   "execution_count": 2,
   "id": "1b021e01-bc65-4f8c-9d1e-61a38b9a1a52",
   "metadata": {},
   "outputs": [
    {
     "data": {
      "text/plain": [
       "6"
      ]
     },
     "execution_count": 2,
     "metadata": {},
     "output_type": "execute_result"
    }
   ],
   "source": [
    "i"
   ]
  },
  {
   "cell_type": "code",
   "execution_count": 3,
   "id": "dad25e54-5a39-416f-be74-5e95c6ad3dea",
   "metadata": {},
   "outputs": [
    {
     "name": "stdout",
     "output_type": "stream",
     "text": [
      "a\n",
      "b\n",
      "c\n",
      "d\n",
      "e\n",
      "True\n"
     ]
    }
   ],
   "source": [
    "g = [\"a\",\"b\",\"c\",\"d\",\"e\",True]\n",
    "for f in g:\n",
    "    print(f)"
   ]
  },
  {
   "cell_type": "code",
   "execution_count": 4,
   "id": "c0c11601-5b81-495e-ae59-0252e2a083b5",
   "metadata": {},
   "outputs": [
    {
     "name": "stdout",
     "output_type": "stream",
     "text": [
      "7\n",
      "8\n",
      "9\n",
      "6\n",
      "6\n"
     ]
    }
   ],
   "source": [
    "#extract those element which is more than 5\n",
    "w = [1,4,7,8,9,6,3,2,5,4,6,3,2,5]\n",
    "for j in w:\n",
    "    if j>5:\n",
    "        print(j)"
   ]
  },
  {
   "cell_type": "code",
   "execution_count": 5,
   "id": "c19662fb-a288-48e3-bcaf-ee09025bcda7",
   "metadata": {},
   "outputs": [
    {
     "name": "stdout",
     "output_type": "stream",
     "text": [
      "4\n",
      "8\n",
      "6\n",
      "2\n",
      "4\n",
      "6\n",
      "2\n"
     ]
    }
   ],
   "source": [
    "# extract even elements from the list\n",
    "w = [1,4,7,8,9,6,3,2,5,4,6,3,2,5]\n",
    "for j in w:\n",
    "    if j%2==0:\n",
    "        print(j)"
   ]
  },
  {
   "cell_type": "code",
   "execution_count": 8,
   "id": "4e7787eb-2ba5-4933-9e70-5afcdc57605d",
   "metadata": {},
   "outputs": [
    {
     "name": "stdout",
     "output_type": "stream",
     "text": [
      "4\n",
      "6\n",
      "5\n",
      "4\n",
      "6\n",
      "5\n"
     ]
    }
   ],
   "source": [
    "# extract elements between 3 and 7\n",
    "w = [1,4,7,8,9,6,3,2,5,4,6,3,2,5]\n",
    "for j in w:\n",
    "    if j>3 and j<7:\n",
    "        print(j)"
   ]
  },
  {
   "cell_type": "code",
   "execution_count": 9,
   "id": "3dec2b52-436f-450b-8355-d7987073204d",
   "metadata": {},
   "outputs": [
    {
     "name": "stdout",
     "output_type": "stream",
     "text": [
      "16\n",
      "64\n",
      "36\n",
      "4\n",
      "16\n",
      "36\n",
      "4\n"
     ]
    }
   ],
   "source": [
    "# calculate the square of even elements\n",
    "w = [1,4,7,8,9,6,3,2,5,4,6,3,2,5]\n",
    "for j in w:\n",
    "    if j%2==0:\n",
    "        print(j**2)\n",
    "    "
   ]
  },
  {
   "cell_type": "code",
   "execution_count": 13,
   "id": "ab68998e-b847-48a9-bf45-646f463f1438",
   "metadata": {},
   "outputs": [
    {
     "name": "stdout",
     "output_type": "stream",
     "text": [
      "abhiniza\n",
      "aman\n",
      "aastha\n"
     ]
    }
   ],
   "source": [
    "# print those name which starts with \"a\"\n",
    "name = [\"rohan\",\"abhiniza\",\"robin\",\"karan\",\"aman\",\"pankaj\",\"aastha\"]\n",
    "for j in name:\n",
    "    if j[0]==\"a\":        # if j.startswith(\"a\")\n",
    "        print(j)\n"
   ]
  },
  {
   "cell_type": "code",
   "execution_count": 14,
   "id": "1188363c-e0e9-4809-80b5-057489712e0b",
   "metadata": {},
   "outputs": [
    {
     "name": "stdout",
     "output_type": "stream",
     "text": [
      "abhiniza\n",
      "aastha\n"
     ]
    }
   ],
   "source": [
    "# print those name which ends with \"a\"\n",
    "name = [\"rohan\",\"abhiniza\",\"robin\",\"karan\",\"aman\",\"pankaj\",\"aastha\"]\n",
    "for j in name:\n",
    "    if j.endswith(\"a\"):\n",
    "        print(j)"
   ]
  },
  {
   "cell_type": "code",
   "execution_count": 16,
   "id": "d079ee00-92bc-4439-870c-0422dbc57b5a",
   "metadata": {},
   "outputs": [
    {
     "name": "stdout",
     "output_type": "stream",
     "text": [
      "roha\n",
      "abhi\n",
      "robi\n",
      "kara\n",
      "aman\n",
      "pank\n",
      "aast\n"
     ]
    }
   ],
   "source": [
    "# print 1st 4 letters of all names\n",
    "name = [\"rohan\",\"abhiniza\",\"robin\",\"karan\",\"aman\",\"pankaj\",\"aastha\"]\n",
    "for j in name:\n",
    "        print(j[0:4])"
   ]
  },
  {
   "cell_type": "code",
   "execution_count": 17,
   "id": "d13e6be1-cf02-439a-8e80-498115847358",
   "metadata": {},
   "outputs": [
    {
     "name": "stdout",
     "output_type": "stream",
     "text": [
      "2000\n",
      "2004\n",
      "2008\n"
     ]
    }
   ],
   "source": [
    "#print all leap years\n",
    "year = [2000,2001,2002,2003,2004,2005,2006,2007,2008,2009,2010]\n",
    "for i in year:\n",
    "    if i%4==0 and i%100!=0 or i%400==0:\n",
    "        print(i)"
   ]
  },
  {
   "cell_type": "code",
   "execution_count": 1,
   "id": "0cfdb2d6-618a-4d48-99f4-ac17311c171c",
   "metadata": {},
   "outputs": [
    {
     "data": {
      "text/plain": [
       "8"
      ]
     },
     "execution_count": 1,
     "metadata": {},
     "output_type": "execute_result"
    }
   ],
   "source": [
    "# interview question\n",
    "# print the 2nd highest element\n",
    "s = [4,7,8,5,2,3,6,9,6,5,6,3,2]\n",
    "s.sort()\n",
    "s[-2]"
   ]
  },
  {
   "cell_type": "code",
   "execution_count": 4,
   "id": "a6685e38-7405-4fd1-b9a8-c5747bdb1f71",
   "metadata": {},
   "outputs": [
    {
     "name": "stdout",
     "output_type": "stream",
     "text": [
      "8\n"
     ]
    }
   ],
   "source": [
    "s = [4,7,8,5,2,3,6,9,6,5,6,3,2,9]\n",
    "s.sort()\n",
    "s\n",
    "index= -2\n",
    "for i in s:\n",
    "    if s[index]==max(s):\n",
    "        index-=1\n",
    "        print(s[index])\n"
   ]
  },
  {
   "cell_type": "code",
   "execution_count": 5,
   "id": "06d31f72-3bcd-4e78-9ed0-9c0d4e388c79",
   "metadata": {},
   "outputs": [
    {
     "name": "stdout",
     "output_type": "stream",
     "text": [
      "3\n",
      "3\n",
      "4\n",
      "5\n",
      "5\n",
      "6\n",
      "6\n",
      "6\n",
      "7\n",
      "8\n"
     ]
    }
   ],
   "source": [
    "s = [4,7,8,5,2,3,6,9,6,5,6,3,2,9,9,9,9,9,9]\n",
    "s.sort()\n",
    "second_element = 0\n",
    "for i in s:\n",
    "    if i>min(s) and i<max(s):\n",
    "        second_element = i\n",
    "        print(second_element)"
   ]
  },
  {
   "cell_type": "code",
   "execution_count": 6,
   "id": "cae1b81d-45ba-48d4-90e6-8164cc6e7604",
   "metadata": {},
   "outputs": [
    {
     "name": "stdout",
     "output_type": "stream",
     "text": [
      "hello\n",
      "how\n",
      "are\n",
      "you\n",
      "i\n",
      "am\n",
      "fine\n",
      "what\n",
      "about\n",
      "you\n"
     ]
    }
   ],
   "source": [
    "s = \"hello how are you i am fine what about you\"\n",
    "for i in s.split():\n",
    "    print(i)"
   ]
  },
  {
   "cell_type": "code",
   "execution_count": 13,
   "id": "4f229d71-7d67-4bc0-8ae6-21ba795db6d5",
   "metadata": {},
   "outputs": [
    {
     "name": "stdout",
     "output_type": "stream",
     "text": [
      "2\n"
     ]
    }
   ],
   "source": [
    "#count those words that starts with h\n",
    "s = \"hello how are you i am fine what about you\"\n",
    "h = []\n",
    "for i in s.split():\n",
    "    if i[0]==\"h\":\n",
    "        h.append(i)\n",
    "print(len(h))\n",
    "\n"
   ]
  },
  {
   "cell_type": "markdown",
   "id": "5f3a390d-ed56-4533-a137-6aafd2f623dc",
   "metadata": {},
   "source": [
    "***RANGE***"
   ]
  },
  {
   "cell_type": "code",
   "execution_count": null,
   "id": "6741340d-bcf6-4363-a131-2e844fda01fa",
   "metadata": {},
   "outputs": [],
   "source": [
    "range(start,stop,step)"
   ]
  },
  {
   "cell_type": "code",
   "execution_count": 15,
   "id": "be872675-42e8-4ad4-bd92-e51a9a55d97a",
   "metadata": {},
   "outputs": [
    {
     "name": "stdout",
     "output_type": "stream",
     "text": [
      "0\n",
      "2\n",
      "4\n",
      "6\n",
      "8\n"
     ]
    }
   ],
   "source": [
    "for i in range(0,10,2):\n",
    "    print(i)"
   ]
  },
  {
   "cell_type": "code",
   "execution_count": 16,
   "id": "3291800b-2d91-4af8-a87c-6b91e2548532",
   "metadata": {},
   "outputs": [
    {
     "name": "stdout",
     "output_type": "stream",
     "text": [
      "5\n",
      "4\n",
      "3\n",
      "2\n"
     ]
    }
   ],
   "source": [
    "for i in range(5,1,-1):\n",
    "    print(i)"
   ]
  },
  {
   "cell_type": "code",
   "execution_count": 17,
   "id": "eb1dc9f3-c76c-4810-834b-be5d651918d5",
   "metadata": {},
   "outputs": [
    {
     "name": "stdout",
     "output_type": "stream",
     "text": [
      "10\n",
      "12\n",
      "14\n",
      "16\n",
      "18\n",
      "20\n",
      "22\n",
      "24\n",
      "26\n",
      "28\n"
     ]
    }
   ],
   "source": [
    "# print all even numbers between 10 and 50\n",
    "for j in range(10,30,2):\n",
    "    print(j)"
   ]
  },
  {
   "cell_type": "code",
   "execution_count": 18,
   "id": "b3c80591-1481-4359-aba8-2073bc2ecc19",
   "metadata": {},
   "outputs": [
    {
     "name": "stdout",
     "output_type": "stream",
     "text": [
      "15\n",
      "25\n",
      "35\n",
      "45\n",
      "55\n",
      "65\n",
      "75\n",
      "85\n",
      "95\n"
     ]
    }
   ],
   "source": [
    "# print those digits where ist one is 5 between 10 to 100\n",
    "for h in range(10,100):\n",
    "    if h%10==5:\n",
    "        print(h)"
   ]
  },
  {
   "cell_type": "code",
   "execution_count": 21,
   "id": "c8e1a044-3f38-4565-ac56-2068474f396a",
   "metadata": {},
   "outputs": [
    {
     "name": "stdout",
     "output_type": "stream",
     "text": [
      "2 x 1 = 2\n",
      "2 x 2 = 4\n",
      "2 x 3 = 6\n",
      "2 x 4 = 8\n",
      "2 x 5 = 10\n",
      "2 x 6 = 12\n",
      "2 x 7 = 14\n",
      "2 x 8 = 16\n",
      "2 x 9 = 18\n",
      "2 x 10 = 20\n"
     ]
    }
   ],
   "source": [
    "#print the table of 2\n",
    "for i in range(2,21,2):\n",
    "    print(\"{} x {} = {}\".format(2,round(i/2),i))\n",
    "    "
   ]
  },
  {
   "cell_type": "code",
   "execution_count": 23,
   "id": "9a543b78-6df7-4547-84d9-c363516e5fa6",
   "metadata": {},
   "outputs": [
    {
     "name": "stdout",
     "output_type": "stream",
     "text": [
      "3 x 1 = 3\n",
      "3 x 2 = 6\n",
      "3 x 3 = 9\n",
      "3 x 4 = 12\n",
      "3 x 5 = 15\n",
      "3 x 6 = 18\n",
      "3 x 7 = 21\n",
      "3 x 8 = 24\n",
      "3 x 9 = 27\n",
      "3 x 10 = 30\n"
     ]
    }
   ],
   "source": [
    "#print the table of 3\n",
    "n = 3\n",
    "for i in range(1,11):\n",
    "    print(\"{} x {} = {}\".format(n,i,n*i))\n",
    "    "
   ]
  },
  {
   "cell_type": "code",
   "execution_count": 27,
   "id": "1c2766c1-98be-4bcf-a830-b041797cbc65",
   "metadata": {},
   "outputs": [
    {
     "name": "stdout",
     "output_type": "stream",
     "text": [
      "[10, 12, 14, 16, 18, 20, 22, 24, 26, 28, 30, 32, 34, 36, 38, 40, 42, 44, 46, 48]\n",
      "[11, 13, 15, 17, 19, 21, 23, 25, 27, 29, 31, 33, 35, 37, 39, 41, 43, 45, 47, 49]\n"
     ]
    }
   ],
   "source": [
    "#interview question\n",
    "# create 2 list and add even and odd digit in both list between 10 and 50\n",
    "even = []\n",
    "odd = []\n",
    "for i in range(10,50):\n",
    "    if i%2==0:\n",
    "        even.append(i)\n",
    "    elif i%2!=0:\n",
    "        odd.append(i)\n",
    "print(even)\n",
    "print(odd)\n"
   ]
  },
  {
   "cell_type": "markdown",
   "id": "8757b6ce-646e-4236-b372-f3adf8195f87",
   "metadata": {},
   "source": [
    "**STAR PATTERN**"
   ]
  },
  {
   "cell_type": "code",
   "execution_count": 28,
   "id": "b13a291a-5201-4f49-9d32-e6cadf394fb0",
   "metadata": {},
   "outputs": [
    {
     "name": "stdout",
     "output_type": "stream",
     "text": [
      "* \n",
      "* * \n",
      "* * * \n",
      "* * * * \n"
     ]
    }
   ],
   "source": [
    "for i in range(1,5):"
   ]
  },
  {
   "cell_type": "code",
   "execution_count": 29,
   "id": "6a4eb485-6efa-4090-afd5-34bbec3d0879",
   "metadata": {},
   "outputs": [
    {
     "name": "stdout",
     "output_type": "stream",
     "text": [
      "* * * * \n",
      "* * * * \n",
      "* * * * \n",
      "* * * * \n"
     ]
    }
   ],
   "source": [
    "for i in range(1,5):\n",
    "    print(\"* \"*4)"
   ]
  },
  {
   "cell_type": "code",
   "execution_count": 30,
   "id": "54c1c603-939e-4d6a-a730-08c9e9a62ddf",
   "metadata": {},
   "outputs": [
    {
     "name": "stdin",
     "output_type": "stream",
     "text": [
      " 8\n"
     ]
    },
    {
     "name": "stdout",
     "output_type": "stream",
     "text": [
      "********\n",
      "********\n",
      "********\n",
      "********\n",
      "********\n",
      "********\n",
      "********\n",
      "********\n"
     ]
    }
   ],
   "source": [
    "n = int(input())\n",
    "for i in range(n):\n",
    "    print(\"*\"*n)\n",
    "    "
   ]
  },
  {
   "cell_type": "code",
   "execution_count": 1,
   "id": "9d019d1e-c6ff-4606-b704-00bbd03d13c4",
   "metadata": {},
   "outputs": [
    {
     "name": "stdout",
     "output_type": "stream",
     "text": [
      "* * * * * * \n",
      "* * * * * \n",
      "* * * * \n",
      "* * * \n",
      "* * \n",
      "* \n"
     ]
    }
   ],
   "source": [
    "for i in range(6,0,-1):\n",
    "    print(i*\"* \")"
   ]
  },
  {
   "cell_type": "code",
   "execution_count": 7,
   "id": "9ebff0dd-d310-4314-9dbb-935a2193034b",
   "metadata": {},
   "outputs": [
    {
     "name": "stdout",
     "output_type": "stream",
     "text": [
      "mann*vanshu mann*vanshu mann*vanshu mann*vanshu mann*vanshu mann*vanshu \n",
      "mann*vanshu mann*vanshu mann*vanshu mann*vanshu mann*vanshu \n",
      "mann*vanshu mann*vanshu mann*vanshu mann*vanshu \n",
      "mann*vanshu mann*vanshu mann*vanshu \n",
      "mann*vanshu mann*vanshu \n",
      "mann*vanshu \n"
     ]
    }
   ],
   "source": [
    "for i in range(6,0,-1):\n",
    "    print(i*\"mann*vanshu \")"
   ]
  },
  {
   "cell_type": "code",
   "execution_count": 4,
   "id": "41126084-9c60-473c-8ddb-c47774d46417",
   "metadata": {},
   "outputs": [
    {
     "name": "stdout",
     "output_type": "stream",
     "text": [
      "* \n",
      "* \n",
      "* \n",
      "* \n",
      "* \n"
     ]
    }
   ],
   "source": [
    "for i in range(5):\n",
    "    print(\"* \")"
   ]
  },
  {
   "cell_type": "code",
   "execution_count": 8,
   "id": "aacd9adb-4237-48f4-babd-f275a2def836",
   "metadata": {},
   "outputs": [
    {
     "name": "stdout",
     "output_type": "stream",
     "text": [
      "0 1 2 3 4 "
     ]
    }
   ],
   "source": [
    "for i in range(5):\n",
    "    print(i,end=\" \")"
   ]
  },
  {
   "cell_type": "code",
   "execution_count": 9,
   "id": "5a1221f4-3771-4e3b-b35e-b2c9ceb2065d",
   "metadata": {},
   "outputs": [
    {
     "name": "stdout",
     "output_type": "stream",
     "text": [
      "hello SAM\n"
     ]
    }
   ],
   "source": [
    "print(\"hello\",end=\" \")\n",
    "print(\"SAM\")"
   ]
  },
  {
   "cell_type": "markdown",
   "id": "0f4ebdf9-e942-4d0c-b718-c5b3c3a00e00",
   "metadata": {},
   "source": [
    "**NESTED LOOP**"
   ]
  },
  {
   "cell_type": "code",
   "execution_count": 10,
   "id": "1598d8bc-bc9c-453d-87a1-02dea6373337",
   "metadata": {},
   "outputs": [
    {
     "name": "stdout",
     "output_type": "stream",
     "text": [
      "9\n",
      "10\n",
      "11\n",
      "12\n",
      "13\n",
      "18\n",
      "20\n",
      "22\n",
      "24\n",
      "26\n"
     ]
    }
   ],
   "source": [
    "f = [1,2]\n",
    "h = [9,10,11,12,13]\n",
    "for i in f:\n",
    "    for j in h:\n",
    "        print(j*i)"
   ]
  },
  {
   "cell_type": "code",
   "execution_count": 12,
   "id": "9e8a2eec-2a33-4ae8-b8e8-01536b23f200",
   "metadata": {},
   "outputs": [
    {
     "name": "stdout",
     "output_type": "stream",
     "text": [
      "1 2 3 4 5 6 \n",
      "1 2 3 4 5 6 \n",
      "1 2 3 4 5 6 \n",
      "1 2 3 4 5 6 \n",
      "1 2 3 4 5 6 \n",
      "1 2 3 4 5 6 \n"
     ]
    }
   ],
   "source": [
    "g = [1,2,3,4,5,6]\n",
    "for i in g:\n",
    "    for j in g:\n",
    "        print(j,end=\" \")\n",
    "    print()"
   ]
  },
  {
   "cell_type": "code",
   "execution_count": 15,
   "id": "49dd7a1c-3af8-4db9-8880-c871b51747c1",
   "metadata": {},
   "outputs": [
    {
     "name": "stdout",
     "output_type": "stream",
     "text": [
      "        * \n",
      "      * * \n",
      "    * * * \n",
      "  * * * * \n",
      "* * * * * \n"
     ]
    }
   ],
   "source": [
    "for i in range(1,6):\n",
    "    for j in range(1,6):\n",
    "        if j>=6-i:\n",
    "            print(\"*\",end=\" \")\n",
    "        else:\n",
    "            print(\" \",end=\" \")\n",
    "    print()"
   ]
  },
  {
   "cell_type": "code",
   "execution_count": 17,
   "id": "96066fb1-81c6-4df9-9d36-36787ddf4b31",
   "metadata": {},
   "outputs": [
    {
     "name": "stdout",
     "output_type": "stream",
     "text": [
      "* * * * * \n",
      "  * * * * \n",
      "    * * * \n",
      "      * * \n",
      "        * \n"
     ]
    }
   ],
   "source": [
    "for i in range(1,6):\n",
    "    for j in range(1,6):\n",
    "        if j>=i:\n",
    "            print(\"*\",end=\" \")\n",
    "        else:\n",
    "            print(\" \",end=\" \")\n",
    "    print()"
   ]
  },
  {
   "cell_type": "code",
   "execution_count": 45,
   "id": "dbef447b-8af8-4de2-b301-8f7310a6c26e",
   "metadata": {},
   "outputs": [
    {
     "name": "stdout",
     "output_type": "stream",
     "text": [
      "* * * * * * * \n",
      "  * * * * *   \n",
      "    * * *     \n",
      "      *       \n"
     ]
    }
   ],
   "source": [
    "for i in range(1,5):\n",
    "    for j in range(1,8):\n",
    "        if j>=i and j<=8-i:\n",
    "            print(\"*\",end=\" \")\n",
    "        else:\n",
    "            print(\" \",end=\" \")\n",
    "    print()"
   ]
  },
  {
   "cell_type": "code",
   "execution_count": 46,
   "id": "67f6b962-94b1-4674-b17e-49363b3add96",
   "metadata": {},
   "outputs": [
    {
     "name": "stdout",
     "output_type": "stream",
     "text": [
      "* * * * * \n",
      "* * * *   \n",
      "* * *     \n",
      "* *       \n",
      "*         \n"
     ]
    }
   ],
   "source": [
    "for i in range(1,6):\n",
    "    for j in range(1,6):\n",
    "        if j<=6-i:\n",
    "            print(\"*\",end=\" \")\n",
    "        else:\n",
    "            print(\" \",end=\" \")\n",
    "    print()"
   ]
  },
  {
   "cell_type": "code",
   "execution_count": 51,
   "id": "9adb6ec7-eeeb-4611-b392-244ba51f555f",
   "metadata": {},
   "outputs": [
    {
     "name": "stdout",
     "output_type": "stream",
     "text": [
      "*       \n",
      "* *     \n",
      "* * *   \n",
      "* * * * \n"
     ]
    }
   ],
   "source": [
    "for i in range(1,5):\n",
    "    for j in range(1,5):\n",
    "        if j<=i and j<=5+i:\n",
    "            print(\"*\",end=\" \")\n",
    "        else:\n",
    "            print(\" \",end=\" \")\n",
    "    print()"
   ]
  },
  {
   "cell_type": "code",
   "execution_count": 57,
   "id": "8382a1b0-6565-4997-aeeb-d60699e66e16",
   "metadata": {},
   "outputs": [
    {
     "name": "stdout",
     "output_type": "stream",
     "text": [
      "  * * * * *   \n",
      "* * * * * * * \n",
      "* * * * * * * \n",
      "* * * * * * * \n"
     ]
    }
   ],
   "source": [
    "for i in range(1,5):\n",
    "    for j in range(1,8):\n",
    "        if j<=5+i and j>=3-i:\n",
    "            print(\"*\",end=\" \")\n",
    "        else:\n",
    "            print(\" \",end=\" \")\n",
    "    print()"
   ]
  },
  {
   "cell_type": "code",
   "execution_count": 70,
   "id": "12b7cab4-8306-4938-9060-2d88043ba9da",
   "metadata": {},
   "outputs": [
    {
     "name": "stdout",
     "output_type": "stream",
     "text": [
      "* * * * * * * \n",
      "* * *   * * * \n",
      "* *       * * \n",
      "*           * \n"
     ]
    }
   ],
   "source": [
    "for i in range(1,5):\n",
    "    for j in range(1,8):\n",
    "        if j<=5-i or j>=3+i:\n",
    "            print(\"*\",end=\" \")\n",
    "        else:\n",
    "            print(\" \",end=\" \")\n",
    "    print()"
   ]
  },
  {
   "cell_type": "code",
   "execution_count": null,
   "id": "25ca15bf-4158-4c8e-b0fc-775282b08320",
   "metadata": {},
   "outputs": [],
   "source": []
  },
  {
   "cell_type": "code",
   "execution_count": null,
   "id": "559dc171-3b61-4ed0-a88c-e5f1b42efcc5",
   "metadata": {},
   "outputs": [],
   "source": []
  },
  {
   "cell_type": "code",
   "execution_count": null,
   "id": "16d5292a-2550-4fed-aa1f-b3fa7fe6895d",
   "metadata": {},
   "outputs": [],
   "source": []
  },
  {
   "cell_type": "code",
   "execution_count": 8,
   "id": "e399d0d9-b579-4d7f-8293-98dfc69acd54",
   "metadata": {},
   "outputs": [],
   "source": [
    "i =3"
   ]
  },
  {
   "cell_type": "code",
   "execution_count": 9,
   "id": "3f0ee96a-69a5-427e-a37f-1b60f8792265",
   "metadata": {},
   "outputs": [
    {
     "data": {
      "text/plain": [
       "False"
      ]
     },
     "execution_count": 9,
     "metadata": {},
     "output_type": "execute_result"
    }
   ],
   "source": [
    "i**(1/2)==int(i**(1/2))"
   ]
  },
  {
   "cell_type": "code",
   "execution_count": 5,
   "id": "d4269bf3-d077-4663-8ed8-bf30fa953306",
   "metadata": {},
   "outputs": [
    {
     "data": {
      "text/plain": [
       "1"
      ]
     },
     "execution_count": 5,
     "metadata": {},
     "output_type": "execute_result"
    }
   ],
   "source": [
    "int(i**(1/2))"
   ]
  },
  {
   "cell_type": "code",
   "execution_count": null,
   "id": "82de706e-9f50-47a7-8a46-fec03d83c2a4",
   "metadata": {},
   "outputs": [],
   "source": []
  },
  {
   "cell_type": "code",
   "execution_count": null,
   "id": "72bddf01-6bd9-4c55-aa2a-e05b3a8d5bcf",
   "metadata": {},
   "outputs": [],
   "source": []
  }
 ],
 "metadata": {
  "kernelspec": {
   "display_name": "Python 3 (ipykernel)",
   "language": "python",
   "name": "python3"
  },
  "language_info": {
   "codemirror_mode": {
    "name": "ipython",
    "version": 3
   },
   "file_extension": ".py",
   "mimetype": "text/x-python",
   "name": "python",
   "nbconvert_exporter": "python",
   "pygments_lexer": "ipython3",
   "version": "3.12.4"
  }
 },
 "nbformat": 4,
 "nbformat_minor": 5
}
